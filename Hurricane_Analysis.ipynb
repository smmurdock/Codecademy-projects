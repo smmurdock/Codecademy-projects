{
  "cells": [
    {
      "cell_type": "markdown",
      "metadata": {
        "id": "view-in-github",
        "colab_type": "text"
      },
      "source": [
        "<a href=\"https://colab.research.google.com/github/smmurdock/Codecademy-projects/blob/main/Hurricane_Analysis.ipynb\" target=\"_parent\"><img src=\"https://colab.research.google.com/assets/colab-badge.svg\" alt=\"Open In Colab\"/></a>"
      ]
    },
    {
      "cell_type": "markdown",
      "id": "58875e7a",
      "metadata": {
        "id": "58875e7a"
      },
      "source": [
        "# Hurricane Analysis"
      ]
    },
    {
      "cell_type": "markdown",
      "id": "9a2d9627",
      "metadata": {
        "id": "9a2d9627"
      },
      "source": [
        "#### Overview"
      ]
    },
    {
      "cell_type": "markdown",
      "id": "633e5dde",
      "metadata": {
        "id": "633e5dde"
      },
      "source": [
        "This project is slightly different than others you have encountered thus far. Instead of a step-by-step tutorial, this project contains a series of open-ended requirements which describe the project you'll be building. There are many possible ways to correctly fulfill all of these requirements, and you should expect to use the internet, Codecademy, and other resources when you encounter a problem that you cannot easily solve."
      ]
    },
    {
      "cell_type": "markdown",
      "id": "52f01f07",
      "metadata": {
        "id": "52f01f07"
      },
      "source": [
        "#### Project Goals"
      ]
    },
    {
      "cell_type": "markdown",
      "id": "d9d06c43",
      "metadata": {
        "id": "d9d06c43"
      },
      "source": [
        "You will work to write several functions that organize and manipulate data about Category 5 Hurricanes, the strongest hurricanes as rated by their wind speed. Each one of these functions will use a number of parameters, conditionals, lists, dictionaries, string manipulation, and return statements."
      ]
    },
    {
      "cell_type": "markdown",
      "id": "7fbb9fb5",
      "metadata": {
        "id": "7fbb9fb5"
      },
      "source": [
        "#### Prerequisites"
      ]
    },
    {
      "cell_type": "markdown",
      "id": "4732a1e8",
      "metadata": {
        "id": "4732a1e8"
      },
      "source": [
        "In order to complete this project, you should have completed the Loops and Dictionaries sections of the [Learn Python 3 Course](https://www.codecademy.com/learn/learn-python-3). This content is also covered in the [Data Scientist Career Path](https://www.codecademy.com/learn/paths/data-science/)."
      ]
    },
    {
      "cell_type": "markdown",
      "id": "1e924903",
      "metadata": {
        "id": "1e924903"
      },
      "source": [
        "## Project Requirements"
      ]
    },
    {
      "cell_type": "markdown",
      "id": "35d6f74d",
      "metadata": {
        "id": "35d6f74d"
      },
      "source": [
        "1. Hurricanes, also known as cyclones or typhoons, are one of the most powerful forces of nature on Earth. Due to climate change caused by human activity, the number and intensity of hurricanes has risen, calling for better preparation by the many communities that are devastated by them. As a concerned environmentalist, you want to look at data about the most powerful hurricanes that have occured.\n",
        "\n",
        "   Begin by looking at the `damages` list. The list contains strings representing the total cost in USD(`$`) caused by `34` category 5 hurricanes (wind speeds $\\ge$ 157 mph (252 km/h)) in the Atlantic region. For some of the hurricanes, damage data was not recorded (`\"Damages not recorded\"`), while the rest are written in the format `\"Prefix-B/M\"`, where `B` stands for billions (`1000000000`) and `M` stands for millions (`1000000`).\n",
        "   \n",
        "   Write a function that returns a new list of updated damages where the recorded data is converted to float values and the missing data is retained as `\"Damages not recorded\"`.\n",
        "   \n",
        "   Test your function with the data stored in `damages`."
      ]
    },
    {
      "cell_type": "code",
      "execution_count": 17,
      "id": "d8d3c50b",
      "metadata": {
        "colab": {
          "base_uri": "https://localhost:8080/"
        },
        "id": "d8d3c50b",
        "outputId": "60451c3f-f171-42ca-dccc-005deb38c744"
      },
      "outputs": [
        {
          "output_type": "stream",
          "name": "stdout",
          "text": [
            "['Damages not recorded', 100000000.0, 'Damages not recorded', 40000000.0, 27900000.0, 5000000.0, 'Damages not recorded', 306000000.0, 2000000.0, 65800000.0, 326000000.0, 60300000.0, 208000000.0, 1420000000.0, 25400000.0, 'Damages not recorded', 1540000000.0, 1240000000.0, 7100000000.0, 10000000000.0, 26500000000.0, 6200000000.0, 5370000000.0, 23300000000.0, 1010000000.0, 125000000000.0, 12000000000.0, 29400000000.0, 1760000000.0, 720000000.0, 15100000000.0, 64800000000.0, 91600000000.0, 25100000000.0]\n"
          ]
        }
      ],
      "source": [
        "# damages (USD($)) of hurricanes\n",
        "damages = ['Damages not recorded', '100M', 'Damages not recorded', '40M',\n",
        "          '27.9M', '5M', 'Damages not recorded', '306M', '2M', '65.8M',\n",
        "          '326M', '60.3M', '208M', '1.42B', '25.4M', 'Damages not recorded',\n",
        "          '1.54B', '1.24B', '7.1B', '10B', '26.5B', '6.2B', '5.37B', '23.3B',\n",
        "          '1.01B', '125B', '12B', '29.4B', '1.76B', '720M', '15.1B', '64.8B',\n",
        "          '91.6B', '25.1B']\n",
        "\n",
        "# 1\n",
        "# Update Recorded Damages\n",
        "conversion = {\"M\": 1000000,\n",
        "             \"B\": 1000000000}\n",
        "\n",
        "# test function by updating damages\n",
        "def convert_damages_data(damages):\n",
        "    \"\"\"Convert damages data from string to float and return converted data as a\n",
        "    list.\"\"\"\n",
        "    updated_damages = list()\n",
        "    for damage in damages:\n",
        "        if damage == \"Damages not recorded\":\n",
        "            updated_damages.append(damage)\n",
        "        if damage.find('M') != -1:\n",
        "            updated_damages.append(float(damage[0:damage.find('M')]) * conversion['M'])\n",
        "        if damage.find('B') != -1:\n",
        "            updated_damages.append(float(damage[0:damage.find('B')]) * conversion['B'])\n",
        "    return updated_damages\n",
        "\n",
        "\n",
        "# test function by updating damages\n",
        "updated_damages = convert_damages_data(damages)\n",
        "print(updated_damages)"
      ]
    },
    {
      "cell_type": "markdown",
      "id": "36ac47b6",
      "metadata": {
        "id": "36ac47b6"
      },
      "source": [
        "2. Additional data collected on the `34` strongest Atlantic hurricanes are provided in a series of lists. The data includes:\n",
        "   - `names`: names of the hurricanes\n",
        "   - `months`: months in which the hurricanes occurred\n",
        "   - `years`: years in which the hurricanes occurred\n",
        "   - `max_sustained_winds`: maximum sustained winds (miles per hour) of the hurricanes\n",
        "   - `areas_affected`: list of different areas affected by each of the hurricanes\n",
        "   - `deaths`: total number of deaths caused by each of the hurricanes\n",
        "   \n",
        "   The data is organized such that the data at each index, from `0` to `33`, corresponds to the same hurricane.\n",
        "   \n",
        "   For example, `names[0]` yields the \"Cuba I\" hurricane, which occurred in `months[0]` (October) `years[0]` (1924).\n",
        "   \n",
        "   Write a function that constructs a dictionary made out of the lists, where the keys of the dictionary are the names of the hurricanes, and the values are dictionaries themselves containing a key for each piece of data (`Name`, `Month`, `Year`, `Max Sustained Wind`, `Areas Affected`, `Damage`, `Death`) about the hurricane.\n",
        "   \n",
        "   Thus the key `\"Cuba I\"` would have the value: `{'Name': 'Cuba I', 'Month': 'October', 'Year': 1924, 'Max Sustained Wind': 165, 'Areas Affected': ['Central America', 'Mexico', 'Cuba', 'Florida', 'The Bahamas'], 'Damage': 'Damages not recorded', 'Deaths': 90}`.\n",
        "   \n",
        "   Test your function on the lists of data provided."
      ]
    },
    {
      "cell_type": "code",
      "execution_count": 18,
      "id": "641aa113",
      "metadata": {
        "colab": {
          "base_uri": "https://localhost:8080/"
        },
        "id": "641aa113",
        "outputId": "5979f384-6207-41fe-c3d3-80bca10254a8"
      },
      "outputs": [
        {
          "output_type": "stream",
          "name": "stdout",
          "text": [
            "{'Cuba I': {'Name': 'Cuba I', 'Month': 'October', 'Year': 1924, 'Max Sustained Winds': 165, 'Areas Affected': ['Central America', 'Mexico', 'Cuba', 'Florida', 'The Bahamas'], 'Damage': 'Damages not recorded', 'Deaths': 90}, 'San Felipe II Okeechobee': {'Name': 'San Felipe II Okeechobee', 'Month': 'September', 'Year': 1928, 'Max Sustained Winds': 160, 'Areas Affected': ['Lesser Antilles', 'The Bahamas', 'United States East Coast', 'Atlantic Canada'], 'Damage': 100000000.0, 'Deaths': 4000}, 'Bahamas': {'Name': 'Bahamas', 'Month': 'September', 'Year': 1932, 'Max Sustained Winds': 160, 'Areas Affected': ['The Bahamas', 'Northeastern United States'], 'Damage': 'Damages not recorded', 'Deaths': 16}, 'Cuba II': {'Name': 'Cuba II', 'Month': 'November', 'Year': 1932, 'Max Sustained Winds': 175, 'Areas Affected': ['Lesser Antilles', 'Jamaica', 'Cayman Islands', 'Cuba', 'The Bahamas', 'Bermuda'], 'Damage': 40000000.0, 'Deaths': 3103}, 'CubaBrownsville': {'Name': 'CubaBrownsville', 'Month': 'August', 'Year': 1933, 'Max Sustained Winds': 160, 'Areas Affected': ['The Bahamas', 'Cuba', 'Florida', 'Texas', 'Tamaulipas'], 'Damage': 27900000.0, 'Deaths': 179}, 'Tampico': {'Name': 'Tampico', 'Month': 'September', 'Year': 1933, 'Max Sustained Winds': 160, 'Areas Affected': ['Jamaica', 'Yucatn Peninsula'], 'Damage': 5000000.0, 'Deaths': 184}, 'Labor Day': {'Name': 'Labor Day', 'Month': 'September', 'Year': 1935, 'Max Sustained Winds': 185, 'Areas Affected': ['The Bahamas', 'Florida', 'Georgia', 'The Carolinas', 'Virginia'], 'Damage': 'Damages not recorded', 'Deaths': 408}, 'New England': {'Name': 'New England', 'Month': 'September', 'Year': 1938, 'Max Sustained Winds': 160, 'Areas Affected': ['Southeastern United States', 'Northeastern United States', 'Southwestern Quebec'], 'Damage': 306000000.0, 'Deaths': 682}, 'Carol': {'Name': 'Carol', 'Month': 'September', 'Year': 1953, 'Max Sustained Winds': 160, 'Areas Affected': ['Bermuda', 'New England', 'Atlantic Canada'], 'Damage': 2000000.0, 'Deaths': 5}, 'Janet': {'Name': 'Janet', 'Month': 'September', 'Year': 1955, 'Max Sustained Winds': 175, 'Areas Affected': ['Lesser Antilles', 'Central America'], 'Damage': 65800000.0, 'Deaths': 1023}, 'Carla': {'Name': 'Carla', 'Month': 'September', 'Year': 1961, 'Max Sustained Winds': 175, 'Areas Affected': ['Texas', 'Louisiana', 'Midwestern United States'], 'Damage': 326000000.0, 'Deaths': 43}, 'Hattie': {'Name': 'Hattie', 'Month': 'October', 'Year': 1961, 'Max Sustained Winds': 160, 'Areas Affected': ['Central America'], 'Damage': 60300000.0, 'Deaths': 319}, 'Beulah': {'Name': 'Beulah', 'Month': 'September', 'Year': 1967, 'Max Sustained Winds': 160, 'Areas Affected': ['The Caribbean', 'Mexico', 'Texas'], 'Damage': 208000000.0, 'Deaths': 688}, 'Camille': {'Name': 'Camille', 'Month': 'August', 'Year': 1969, 'Max Sustained Winds': 175, 'Areas Affected': ['Cuba', 'United States Gulf Coast'], 'Damage': 1420000000.0, 'Deaths': 259}, 'Edith': {'Name': 'Edith', 'Month': 'September', 'Year': 1971, 'Max Sustained Winds': 160, 'Areas Affected': ['The Caribbean', 'Central America', 'Mexico', 'United States Gulf Coast'], 'Damage': 25400000.0, 'Deaths': 37}, 'Anita': {'Name': 'Anita', 'Month': 'September', 'Year': 1977, 'Max Sustained Winds': 175, 'Areas Affected': ['Mexico'], 'Damage': 'Damages not recorded', 'Deaths': 11}, 'David': {'Name': 'David', 'Month': 'August', 'Year': 1979, 'Max Sustained Winds': 175, 'Areas Affected': ['The Caribbean', 'United States East coast'], 'Damage': 1540000000.0, 'Deaths': 2068}, 'Allen': {'Name': 'Allen', 'Month': 'August', 'Year': 1980, 'Max Sustained Winds': 190, 'Areas Affected': ['The Caribbean', 'Yucatn Peninsula', 'Mexico', 'South Texas'], 'Damage': 1240000000.0, 'Deaths': 269}, 'Gilbert': {'Name': 'Gilbert', 'Month': 'September', 'Year': 1988, 'Max Sustained Winds': 185, 'Areas Affected': ['Jamaica', 'Venezuela', 'Central America', 'Hispaniola', 'Mexico'], 'Damage': 7100000000.0, 'Deaths': 318}, 'Hugo': {'Name': 'Hugo', 'Month': 'September', 'Year': 1989, 'Max Sustained Winds': 160, 'Areas Affected': ['The Caribbean', 'United States East Coast'], 'Damage': 10000000000.0, 'Deaths': 107}, 'Andrew': {'Name': 'Andrew', 'Month': 'August', 'Year': 1992, 'Max Sustained Winds': 175, 'Areas Affected': ['The Bahamas', 'Florida', 'United States Gulf Coast'], 'Damage': 26500000000.0, 'Deaths': 65}, 'Mitch': {'Name': 'Mitch', 'Month': 'October', 'Year': 1998, 'Max Sustained Winds': 180, 'Areas Affected': ['Central America', 'Yucatn Peninsula', 'South Florida'], 'Damage': 6200000000.0, 'Deaths': 19325}, 'Isabel': {'Name': 'Isabel', 'Month': 'September', 'Year': 2003, 'Max Sustained Winds': 165, 'Areas Affected': ['Greater Antilles', 'Bahamas', 'Eastern United States', 'Ontario'], 'Damage': 5370000000.0, 'Deaths': 51}, 'Ivan': {'Name': 'Ivan', 'Month': 'September', 'Year': 2004, 'Max Sustained Winds': 165, 'Areas Affected': ['The Caribbean', 'Venezuela', 'United States Gulf Coast'], 'Damage': 23300000000.0, 'Deaths': 124}, 'Emily': {'Name': 'Emily', 'Month': 'July', 'Year': 2005, 'Max Sustained Winds': 160, 'Areas Affected': ['Windward Islands', 'Jamaica', 'Mexico', 'Texas'], 'Damage': 1010000000.0, 'Deaths': 17}, 'Katrina': {'Name': 'Katrina', 'Month': 'August', 'Year': 2005, 'Max Sustained Winds': 175, 'Areas Affected': ['Bahamas', 'United States Gulf Coast'], 'Damage': 125000000000.0, 'Deaths': 1836}, 'Rita': {'Name': 'Rita', 'Month': 'September', 'Year': 2005, 'Max Sustained Winds': 180, 'Areas Affected': ['Cuba', 'United States Gulf Coast'], 'Damage': 12000000000.0, 'Deaths': 125}, 'Wilma': {'Name': 'Wilma', 'Month': 'October', 'Year': 2005, 'Max Sustained Winds': 185, 'Areas Affected': ['Greater Antilles', 'Central America', 'Florida'], 'Damage': 29400000000.0, 'Deaths': 87}, 'Dean': {'Name': 'Dean', 'Month': 'August', 'Year': 2007, 'Max Sustained Winds': 175, 'Areas Affected': ['The Caribbean', 'Central America'], 'Damage': 1760000000.0, 'Deaths': 45}, 'Felix': {'Name': 'Felix', 'Month': 'September', 'Year': 2007, 'Max Sustained Winds': 175, 'Areas Affected': ['Nicaragua', 'Honduras'], 'Damage': 720000000.0, 'Deaths': 133}, 'Matthew': {'Name': 'Matthew', 'Month': 'October', 'Year': 2016, 'Max Sustained Winds': 165, 'Areas Affected': ['Antilles', 'Venezuela', 'Colombia', 'United States East Coast', 'Atlantic Canada'], 'Damage': 15100000000.0, 'Deaths': 603}, 'Irma': {'Name': 'Irma', 'Month': 'September', 'Year': 2017, 'Max Sustained Winds': 180, 'Areas Affected': ['Cape Verde', 'The Caribbean', 'British Virgin Islands', 'U.S. Virgin Islands', 'Cuba', 'Florida'], 'Damage': 64800000000.0, 'Deaths': 138}, 'Maria': {'Name': 'Maria', 'Month': 'September', 'Year': 2017, 'Max Sustained Winds': 175, 'Areas Affected': ['Lesser Antilles', 'Virgin Islands', 'Puerto Rico', 'Dominican Republic', 'Turks and Caicos Islands'], 'Damage': 91600000000.0, 'Deaths': 3057}, 'Michael': {'Name': 'Michael', 'Month': 'October', 'Year': 2018, 'Max Sustained Winds': 160, 'Areas Affected': ['Central America', 'United States Gulf Coast (especially Florida Panhandle)'], 'Damage': 25100000000.0, 'Deaths': 74}}\n"
          ]
        }
      ],
      "source": [
        "# names of hurricanes\n",
        "names = ['Cuba I', 'San Felipe II Okeechobee', 'Bahamas', 'Cuba II', 'CubaBrownsville', 'Tampico', 'Labor Day', 'New England', 'Carol', 'Janet', 'Carla', 'Hattie', 'Beulah', 'Camille', 'Edith', 'Anita', 'David', 'Allen', 'Gilbert', 'Hugo', 'Andrew', 'Mitch', 'Isabel', 'Ivan', 'Emily', 'Katrina', 'Rita', 'Wilma', 'Dean', 'Felix', 'Matthew', 'Irma', 'Maria', 'Michael']\n",
        "\n",
        "# months of hurricanes\n",
        "months = ['October', 'September', 'September', 'November', 'August', 'September', 'September', 'September', 'September', 'September', 'September', 'October', 'September', 'August', 'September', 'September', 'August', 'August', 'September', 'September', 'August', 'October', 'September', 'September', 'July', 'August', 'September', 'October', 'August', 'September', 'October', 'September', 'September', 'October']\n",
        "\n",
        "# years of hurricanes\n",
        "years = [1924, 1928, 1932, 1932, 1933, 1933, 1935, 1938, 1953, 1955, 1961, 1961, 1967, 1969, 1971, 1977, 1979, 1980, 1988, 1989, 1992, 1998, 2003, 2004, 2005, 2005, 2005, 2005, 2007, 2007, 2016, 2017, 2017, 2018]\n",
        "\n",
        "# maximum sustained winds (mph) of hurricanes\n",
        "max_sustained_winds = [165, 160, 160, 175, 160, 160, 185, 160, 160, 175, 175, 160, 160, 175, 160, 175, 175, 190, 185, 160, 175, 180, 165, 165, 160, 175, 180, 185, 175, 175, 165, 180, 175, 160]\n",
        "\n",
        "# areas affected by each hurricane\n",
        "areas_affected = [['Central America', 'Mexico', 'Cuba', 'Florida', 'The Bahamas'], ['Lesser Antilles', 'The Bahamas', 'United States East Coast', 'Atlantic Canada'], ['The Bahamas', 'Northeastern United States'], ['Lesser Antilles', 'Jamaica', 'Cayman Islands', 'Cuba', 'The Bahamas', 'Bermuda'], ['The Bahamas', 'Cuba', 'Florida', 'Texas', 'Tamaulipas'], ['Jamaica', 'Yucatn Peninsula'], ['The Bahamas', 'Florida', 'Georgia', 'The Carolinas', 'Virginia'], ['Southeastern United States', 'Northeastern United States', 'Southwestern Quebec'], ['Bermuda', 'New England', 'Atlantic Canada'], ['Lesser Antilles', 'Central America'], ['Texas', 'Louisiana', 'Midwestern United States'], ['Central America'], ['The Caribbean', 'Mexico', 'Texas'], ['Cuba', 'United States Gulf Coast'], ['The Caribbean', 'Central America', 'Mexico', 'United States Gulf Coast'], ['Mexico'], ['The Caribbean', 'United States East coast'], ['The Caribbean', 'Yucatn Peninsula', 'Mexico', 'South Texas'], ['Jamaica', 'Venezuela', 'Central America', 'Hispaniola', 'Mexico'], ['The Caribbean', 'United States East Coast'], ['The Bahamas', 'Florida', 'United States Gulf Coast'], ['Central America', 'Yucatn Peninsula', 'South Florida'], ['Greater Antilles', 'Bahamas', 'Eastern United States', 'Ontario'], ['The Caribbean', 'Venezuela', 'United States Gulf Coast'], ['Windward Islands', 'Jamaica', 'Mexico', 'Texas'], ['Bahamas', 'United States Gulf Coast'], ['Cuba', 'United States Gulf Coast'], ['Greater Antilles', 'Central America', 'Florida'], ['The Caribbean', 'Central America'], ['Nicaragua', 'Honduras'], ['Antilles', 'Venezuela', 'Colombia', 'United States East Coast', 'Atlantic Canada'], ['Cape Verde', 'The Caribbean', 'British Virgin Islands', 'U.S. Virgin Islands', 'Cuba', 'Florida'], ['Lesser Antilles', 'Virgin Islands', 'Puerto Rico', 'Dominican Republic', 'Turks and Caicos Islands'], ['Central America', 'United States Gulf Coast (especially Florida Panhandle)']]\n",
        "\n",
        "# damages (USD($)) of hurricanes\n",
        "damages = ['Damages not recorded', '100M', 'Damages not recorded', '40M', '27.9M', '5M', 'Damages not recorded', '306M', '2M', '65.8M', '326M', '60.3M', '208M', '1.42B', '25.4M', 'Damages not recorded', '1.54B', '1.24B', '7.1B', '10B', '26.5B', '6.2B', '5.37B', '23.3B', '1.01B', '125B', '12B', '29.4B', '1.76B', '720M', '15.1B', '64.8B', '91.6B', '25.1B']\n",
        "\n",
        "# deaths for each hurricane\n",
        "deaths = [90,4000,16,3103,179,184,408,682,5,1023,43,319,688,259,37,11,2068,269,318,107,65,19325,51,124,17,1836,125,87,45,133,603,138,3057,74]\n",
        "\n",
        "# 2\n",
        "# Create a Table\n",
        "def create_dictionary(names, months, years, max_sustained_winds, areas_affected, updated_damages, deaths):\n",
        "    hurricanes = dict()\n",
        "    num_hurricanes = len(names)\n",
        "    for i in range(num_hurricanes):\n",
        "        hurricanes[names[i]] = {\n",
        "            \"Name\": names[i],\n",
        "            \"Month\": months[i],\n",
        "            \"Year\": years[i],\n",
        "            \"Max Sustained Winds\": max_sustained_winds[i],\n",
        "            \"Areas Affected\": areas_affected[i],\n",
        "            \"Damage\": updated_damages[i],\n",
        "            \"Deaths\": deaths[i]}\n",
        "    return hurricanes\n",
        "\n",
        "\n",
        "# Create and view the hurricanes dictionary\n",
        "hurricanes = create_dictionary(names, months, years, max_sustained_winds, areas_affected, updated_damages, deaths)\n",
        "print(hurricanes)"
      ]
    },
    {
      "cell_type": "markdown",
      "id": "6d0a1933",
      "metadata": {
        "id": "6d0a1933"
      },
      "source": [
        "3. In addition to organizing the hurricanes in a dictionary with names as the key, you want to be able to organize the hurricanes by year.\n",
        "\n",
        "   Write a function that converts the current dictionary of hurricanes to a new dictionary, where the keys are years and the values are lists containing a dictionary for each hurricane that occurred in that year.\n",
        "   \n",
        "   For example, the key `1932` would yield the value: `[{'Name': 'Bahamas', 'Month': 'September', 'Year': 1932, 'Max Sustained Wind': 160, 'Areas Affected': ['The Bahamas', 'Northeastern United States'], 'Damage': 'Damage not recorded', 'Deaths': 16}, {'Name': 'Cuba II', 'Month': 'November', 'Year': 1932, 'Max Sustained Wind': 175, 'Areas Affected': ['Lesser Antilles', 'Jamaica', 'Cayman Islands', 'Cuba', 'The Bahamas', 'Bermuda'], 'Damage': 40000000.0, 'Deaths': 3103}]`.\n",
        "   \n",
        "   Test your function on your hurricane dictionary."
      ]
    },
    {
      "cell_type": "code",
      "execution_count": 19,
      "id": "1ef2edea",
      "metadata": {
        "colab": {
          "base_uri": "https://localhost:8080/"
        },
        "id": "1ef2edea",
        "outputId": "75b7b0d1-0b97-4ef2-cdb4-a1fef65dbbb7"
      },
      "outputs": [
        {
          "output_type": "stream",
          "name": "stdout",
          "text": [
            "{1924: [{'Name': 'Cuba I', 'Month': 'October', 'Year': 1924, 'Max Sustained Winds': 165, 'Areas Affected': ['Central America', 'Mexico', 'Cuba', 'Florida', 'The Bahamas'], 'Damage': 'Damages not recorded', 'Deaths': 90}], 1928: [{'Name': 'San Felipe II Okeechobee', 'Month': 'September', 'Year': 1928, 'Max Sustained Winds': 160, 'Areas Affected': ['Lesser Antilles', 'The Bahamas', 'United States East Coast', 'Atlantic Canada'], 'Damage': 100000000.0, 'Deaths': 4000}], 1932: [{'Name': 'Bahamas', 'Month': 'September', 'Year': 1932, 'Max Sustained Winds': 160, 'Areas Affected': ['The Bahamas', 'Northeastern United States'], 'Damage': 'Damages not recorded', 'Deaths': 16}, {'Name': 'Cuba II', 'Month': 'November', 'Year': 1932, 'Max Sustained Winds': 175, 'Areas Affected': ['Lesser Antilles', 'Jamaica', 'Cayman Islands', 'Cuba', 'The Bahamas', 'Bermuda'], 'Damage': 40000000.0, 'Deaths': 3103}], 1933: [{'Name': 'CubaBrownsville', 'Month': 'August', 'Year': 1933, 'Max Sustained Winds': 160, 'Areas Affected': ['The Bahamas', 'Cuba', 'Florida', 'Texas', 'Tamaulipas'], 'Damage': 27900000.0, 'Deaths': 179}, {'Name': 'Tampico', 'Month': 'September', 'Year': 1933, 'Max Sustained Winds': 160, 'Areas Affected': ['Jamaica', 'Yucatn Peninsula'], 'Damage': 5000000.0, 'Deaths': 184}], 1935: [{'Name': 'Labor Day', 'Month': 'September', 'Year': 1935, 'Max Sustained Winds': 185, 'Areas Affected': ['The Bahamas', 'Florida', 'Georgia', 'The Carolinas', 'Virginia'], 'Damage': 'Damages not recorded', 'Deaths': 408}], 1938: [{'Name': 'New England', 'Month': 'September', 'Year': 1938, 'Max Sustained Winds': 160, 'Areas Affected': ['Southeastern United States', 'Northeastern United States', 'Southwestern Quebec'], 'Damage': 306000000.0, 'Deaths': 682}], 1953: [{'Name': 'Carol', 'Month': 'September', 'Year': 1953, 'Max Sustained Winds': 160, 'Areas Affected': ['Bermuda', 'New England', 'Atlantic Canada'], 'Damage': 2000000.0, 'Deaths': 5}], 1955: [{'Name': 'Janet', 'Month': 'September', 'Year': 1955, 'Max Sustained Winds': 175, 'Areas Affected': ['Lesser Antilles', 'Central America'], 'Damage': 65800000.0, 'Deaths': 1023}], 1961: [{'Name': 'Carla', 'Month': 'September', 'Year': 1961, 'Max Sustained Winds': 175, 'Areas Affected': ['Texas', 'Louisiana', 'Midwestern United States'], 'Damage': 326000000.0, 'Deaths': 43}, {'Name': 'Hattie', 'Month': 'October', 'Year': 1961, 'Max Sustained Winds': 160, 'Areas Affected': ['Central America'], 'Damage': 60300000.0, 'Deaths': 319}], 1967: [{'Name': 'Beulah', 'Month': 'September', 'Year': 1967, 'Max Sustained Winds': 160, 'Areas Affected': ['The Caribbean', 'Mexico', 'Texas'], 'Damage': 208000000.0, 'Deaths': 688}], 1969: [{'Name': 'Camille', 'Month': 'August', 'Year': 1969, 'Max Sustained Winds': 175, 'Areas Affected': ['Cuba', 'United States Gulf Coast'], 'Damage': 1420000000.0, 'Deaths': 259}], 1971: [{'Name': 'Edith', 'Month': 'September', 'Year': 1971, 'Max Sustained Winds': 160, 'Areas Affected': ['The Caribbean', 'Central America', 'Mexico', 'United States Gulf Coast'], 'Damage': 25400000.0, 'Deaths': 37}], 1977: [{'Name': 'Anita', 'Month': 'September', 'Year': 1977, 'Max Sustained Winds': 175, 'Areas Affected': ['Mexico'], 'Damage': 'Damages not recorded', 'Deaths': 11}], 1979: [{'Name': 'David', 'Month': 'August', 'Year': 1979, 'Max Sustained Winds': 175, 'Areas Affected': ['The Caribbean', 'United States East coast'], 'Damage': 1540000000.0, 'Deaths': 2068}], 1980: [{'Name': 'Allen', 'Month': 'August', 'Year': 1980, 'Max Sustained Winds': 190, 'Areas Affected': ['The Caribbean', 'Yucatn Peninsula', 'Mexico', 'South Texas'], 'Damage': 1240000000.0, 'Deaths': 269}], 1988: [{'Name': 'Gilbert', 'Month': 'September', 'Year': 1988, 'Max Sustained Winds': 185, 'Areas Affected': ['Jamaica', 'Venezuela', 'Central America', 'Hispaniola', 'Mexico'], 'Damage': 7100000000.0, 'Deaths': 318}], 1989: [{'Name': 'Hugo', 'Month': 'September', 'Year': 1989, 'Max Sustained Winds': 160, 'Areas Affected': ['The Caribbean', 'United States East Coast'], 'Damage': 10000000000.0, 'Deaths': 107}], 1992: [{'Name': 'Andrew', 'Month': 'August', 'Year': 1992, 'Max Sustained Winds': 175, 'Areas Affected': ['The Bahamas', 'Florida', 'United States Gulf Coast'], 'Damage': 26500000000.0, 'Deaths': 65}], 1998: [{'Name': 'Mitch', 'Month': 'October', 'Year': 1998, 'Max Sustained Winds': 180, 'Areas Affected': ['Central America', 'Yucatn Peninsula', 'South Florida'], 'Damage': 6200000000.0, 'Deaths': 19325}], 2003: [{'Name': 'Isabel', 'Month': 'September', 'Year': 2003, 'Max Sustained Winds': 165, 'Areas Affected': ['Greater Antilles', 'Bahamas', 'Eastern United States', 'Ontario'], 'Damage': 5370000000.0, 'Deaths': 51}], 2004: [{'Name': 'Ivan', 'Month': 'September', 'Year': 2004, 'Max Sustained Winds': 165, 'Areas Affected': ['The Caribbean', 'Venezuela', 'United States Gulf Coast'], 'Damage': 23300000000.0, 'Deaths': 124}], 2005: [{'Name': 'Emily', 'Month': 'July', 'Year': 2005, 'Max Sustained Winds': 160, 'Areas Affected': ['Windward Islands', 'Jamaica', 'Mexico', 'Texas'], 'Damage': 1010000000.0, 'Deaths': 17}, {'Name': 'Katrina', 'Month': 'August', 'Year': 2005, 'Max Sustained Winds': 175, 'Areas Affected': ['Bahamas', 'United States Gulf Coast'], 'Damage': 125000000000.0, 'Deaths': 1836}, {'Name': 'Rita', 'Month': 'September', 'Year': 2005, 'Max Sustained Winds': 180, 'Areas Affected': ['Cuba', 'United States Gulf Coast'], 'Damage': 12000000000.0, 'Deaths': 125}, {'Name': 'Wilma', 'Month': 'October', 'Year': 2005, 'Max Sustained Winds': 185, 'Areas Affected': ['Greater Antilles', 'Central America', 'Florida'], 'Damage': 29400000000.0, 'Deaths': 87}], 2007: [{'Name': 'Dean', 'Month': 'August', 'Year': 2007, 'Max Sustained Winds': 175, 'Areas Affected': ['The Caribbean', 'Central America'], 'Damage': 1760000000.0, 'Deaths': 45}, {'Name': 'Felix', 'Month': 'September', 'Year': 2007, 'Max Sustained Winds': 175, 'Areas Affected': ['Nicaragua', 'Honduras'], 'Damage': 720000000.0, 'Deaths': 133}], 2016: [{'Name': 'Matthew', 'Month': 'October', 'Year': 2016, 'Max Sustained Winds': 165, 'Areas Affected': ['Antilles', 'Venezuela', 'Colombia', 'United States East Coast', 'Atlantic Canada'], 'Damage': 15100000000.0, 'Deaths': 603}], 2017: [{'Name': 'Irma', 'Month': 'September', 'Year': 2017, 'Max Sustained Winds': 180, 'Areas Affected': ['Cape Verde', 'The Caribbean', 'British Virgin Islands', 'U.S. Virgin Islands', 'Cuba', 'Florida'], 'Damage': 64800000000.0, 'Deaths': 138}, {'Name': 'Maria', 'Month': 'September', 'Year': 2017, 'Max Sustained Winds': 175, 'Areas Affected': ['Lesser Antilles', 'Virgin Islands', 'Puerto Rico', 'Dominican Republic', 'Turks and Caicos Islands'], 'Damage': 91600000000.0, 'Deaths': 3057}], 2018: [{'Name': 'Michael', 'Month': 'October', 'Year': 2018, 'Max Sustained Winds': 160, 'Areas Affected': ['Central America', 'United States Gulf Coast (especially Florida Panhandle)'], 'Damage': 25100000000.0, 'Deaths': 74}]}\n"
          ]
        }
      ],
      "source": [
        "# 3\n",
        "# Organizing by Year\n",
        "def create_dictionary_by_year(hurricanes):\n",
        "    \"\"\"Convert dictionary with hurricane names as key to a new dictionary with\n",
        "    hurricane year as the key and return a new dictionary.\"\"\"\n",
        "    hurricanes_by_year = dict()\n",
        "    for name in hurricanes:\n",
        "        current_year = hurricanes[name]['Year']\n",
        "        current_hurricane = hurricanes[name]\n",
        "        if current_year not in hurricanes_by_year:\n",
        "            hurricanes_by_year[current_year] = [current_hurricane]\n",
        "        else:\n",
        "            hurricanes_by_year[current_year].append(current_hurricane)\n",
        "    return hurricanes_by_year\n",
        "\n",
        "\n",
        "# create a new dictionary of hurricanes with year and key\n",
        "hurricanes_by_year = create_dictionary_by_year(hurricanes)\n",
        "print(hurricanes_by_year)"
      ]
    },
    {
      "cell_type": "markdown",
      "id": "66973f77",
      "metadata": {
        "id": "66973f77"
      },
      "source": [
        "4. You believe that knowing how often each of the areas of the Atlantic are affected by these strong hurricanes is important for making preparations for future hurricanes.\n",
        "\n",
        "   Write a function that counts how often each area is listed as an affected area of a hurricane. Store and return the results in a dictionary where the keys are the affected areas and the values are counts of how many times the areas were affected.\n",
        "   \n",
        "   Test your function on your hurricane dictionary."
      ]
    },
    {
      "cell_type": "code",
      "execution_count": 20,
      "id": "bff86f77",
      "metadata": {
        "colab": {
          "base_uri": "https://localhost:8080/"
        },
        "id": "bff86f77",
        "outputId": "cb499d90-e0b5-4238-dea3-80da75babccc"
      },
      "outputs": [
        {
          "output_type": "stream",
          "name": "stdout",
          "text": [
            "{'Central America': 9, 'Mexico': 7, 'Cuba': 6, 'Florida': 6, 'The Bahamas': 7, 'Lesser Antilles': 4, 'United States East Coast': 3, 'Atlantic Canada': 3, 'Northeastern United States': 2, 'Jamaica': 4, 'Cayman Islands': 1, 'Bermuda': 2, 'Texas': 4, 'Tamaulipas': 1, 'Yucatn Peninsula': 3, 'Georgia': 1, 'The Carolinas': 1, 'Virginia': 1, 'Southeastern United States': 1, 'Southwestern Quebec': 1, 'New England': 1, 'Louisiana': 1, 'Midwestern United States': 1, 'The Caribbean': 8, 'United States Gulf Coast': 6, 'United States East coast': 1, 'South Texas': 1, 'Venezuela': 3, 'Hispaniola': 1, 'South Florida': 1, 'Greater Antilles': 2, 'Bahamas': 2, 'Eastern United States': 1, 'Ontario': 1, 'Windward Islands': 1, 'Nicaragua': 1, 'Honduras': 1, 'Antilles': 1, 'Colombia': 1, 'Cape Verde': 1, 'British Virgin Islands': 1, 'U.S. Virgin Islands': 1, 'Virgin Islands': 1, 'Puerto Rico': 1, 'Dominican Republic': 1, 'Turks and Caicos Islands': 1, 'United States Gulf Coast (especially Florida Panhandle)': 1}\n"
          ]
        }
      ],
      "source": [
        "# 4\n",
        "# Counting Damaged Areas\n",
        "def count_affected_areas(hurricanes):\n",
        "    \"\"\"Find the count of affected areas across all hurricanes and return as a\n",
        "    dictionary with the affected areas as keys.\"\"\"\n",
        "    affected_areas_count = dict()\n",
        "    for hurricane in hurricanes:\n",
        "        for area in hurricanes[hurricane]['Areas Affected']:\n",
        "            if area not in affected_areas_count:\n",
        "                affected_areas_count[area] = 1\n",
        "            else:\n",
        "                affected_areas_count[area] += 1\n",
        "\n",
        "    return affected_areas_count\n",
        "\n",
        "\n",
        "# create dictionary of areas to store the number of hurricanes involved in\n",
        "affected_areas_count = count_affected_areas(hurricanes)\n",
        "print(affected_areas_count)"
      ]
    },
    {
      "cell_type": "markdown",
      "id": "e015eeb3",
      "metadata": {
        "id": "e015eeb3"
      },
      "source": [
        "5. Write a function that finds the area affected by the most hurricanes, and how often it was hit.\n",
        "\n",
        "   Test your function on your affected area dictionary."
      ]
    },
    {
      "cell_type": "code",
      "execution_count": 21,
      "id": "643c73f9",
      "metadata": {
        "colab": {
          "base_uri": "https://localhost:8080/"
        },
        "id": "643c73f9",
        "outputId": "56d417eb-8b21-4117-9a7e-ea012d43945a"
      },
      "outputs": [
        {
          "output_type": "stream",
          "name": "stdout",
          "text": [
            "Central America 9\n"
          ]
        }
      ],
      "source": [
        "# 5\n",
        "# Calculating Maximum Hurricane Count\n",
        "def most_affected_area(affected_areas_count):\n",
        "  \"\"\"Find the most affected area and the number of hurricanes involved.\"\"\"\n",
        "  max_area = \"\"\n",
        "  max_area_count = 0\n",
        "  for area in affected_areas_count:\n",
        "      if affected_areas_count[area] > max_area_count:\n",
        "          max_area = area\n",
        "          max_area_count = affected_areas_count[area]\n",
        "  return max_area, max_area_count\n",
        "\n",
        "\n",
        "# find most frequently affected area and the number of hurricanes involved in\n",
        "max_area, max_area_count = most_affected_area(affected_areas_count)\n",
        "print(max_area, max_area_count)"
      ]
    },
    {
      "cell_type": "markdown",
      "id": "4c120f59",
      "metadata": {
        "id": "4c120f59"
      },
      "source": [
        "6. Write a function that finds the hurricane that caused the greatest number of deaths, and how many deaths it caused.\n",
        "\n",
        "   Test your function on your hurricane dictionary."
      ]
    },
    {
      "cell_type": "code",
      "execution_count": 22,
      "id": "ced02448",
      "metadata": {
        "colab": {
          "base_uri": "https://localhost:8080/"
        },
        "id": "ced02448",
        "outputId": "a9d2b085-3aaf-4621-8887-0d7994b5d9a2"
      },
      "outputs": [
        {
          "output_type": "stream",
          "name": "stdout",
          "text": [
            "Mitch 19325\n"
          ]
        }
      ],
      "source": [
        "# 6\n",
        "# Calculating the Deadliest Hurricane\n",
        "def highest_mortality_hurricane(hurricanes):\n",
        "    \"\"\"Find the hurricane that caused the greatest number of deaths and how many\n",
        "    deaths it caused.\"\"\"\n",
        "    max_mortality_hurricane = \"\"\n",
        "    max_mortality_count = 0\n",
        "    for hurricane in hurricanes:\n",
        "        if hurricanes[hurricane]['Deaths'] > max_mortality_count:\n",
        "            max_mortality_hurricane = hurricane\n",
        "            max_mortality_count = hurricanes[hurricane]['Deaths']\n",
        "    return max_mortality_hurricane, max_mortality_count\n",
        "\n",
        "\n",
        "# find highest mortality hurricane and the number of deaths\n",
        "max_mortality_hurricane, max_mortality_count = highest_mortality_hurricane(hurricanes)\n",
        "print(max_mortality_hurricane, max_mortality_count)"
      ]
    },
    {
      "cell_type": "markdown",
      "id": "9ddd39b0",
      "metadata": {
        "id": "9ddd39b0"
      },
      "source": [
        "7. Just as hurricanes are rated by their windspeed, you want to try rating hurricanes based on other metrics.\n",
        "\n",
        "   Write a function that rates hurricanes on a mortality scale according to the following ratings, where the key is the rating and the value is the upper bound of deaths for that rating.\n",
        "   \n",
        "   ```py\n",
        "   mortality_scale = {0: 0,\n",
        "   1: 100,\n",
        "   2: 500,\n",
        "   3: 1000,\n",
        "   4: 10000}\n",
        "   ```\n",
        "   \n",
        "   For example, a hurricane with a `1` mortality rating would have resulted in greater than `0` but less than or equal to `100` deaths. A hurricane with a `5` mortality would have resulted in greater than `10000` deaths.\n",
        "   \n",
        "   Store the hurricanes in a new dictionary where the keys are the mortaility ratings and the values are lists containing a dictionary for each hurricane that falls into that mortality rating.\n",
        "   \n",
        "   Test your function on your hurricane dictionary."
      ]
    },
    {
      "cell_type": "code",
      "execution_count": 27,
      "id": "9eea4dc7",
      "metadata": {
        "colab": {
          "base_uri": "https://localhost:8080/"
        },
        "id": "9eea4dc7",
        "outputId": "f9198bba-3a76-4546-f4b2-5c644a902d54"
      },
      "outputs": [
        {
          "output_type": "stream",
          "name": "stdout",
          "text": [
            "[{'Name': 'Mitch', 'Month': 'October', 'Year': 1998, 'Max Sustained Winds': 180, 'Areas Affected': ['Central America', 'Yucatn Peninsula', 'South Florida'], 'Damage': 6200000000.0, 'Deaths': 19325}]\n"
          ]
        }
      ],
      "source": [
        "# 7\n",
        "# Rating Hurricanes by Mortality\n",
        "def categority_hurricanes_by_mortality(hurricanes):\n",
        "    \"\"\"Categorize hurricanes in a new dictionary with mortality severity as key.\"\"\"\n",
        "    mortality_scale = {0: 0,\n",
        "                       1: 100,\n",
        "                       2: 500,\n",
        "                       3: 1000,\n",
        "                       4: 10000}\n",
        "    hurricanes_by_mortality = {\n",
        "        0: [],\n",
        "        1: [],\n",
        "        2: [],\n",
        "        3: [],\n",
        "        4: [],\n",
        "        5: []\n",
        "    }\n",
        "    for hurricane in hurricanes:\n",
        "        num_deaths = hurricanes[hurricane]['Deaths']\n",
        "        if num_deaths == mortality_scale[0]:\n",
        "            hurricanes_by_mortality[0].append(hurricanes[hurricane])\n",
        "        elif num_deaths > mortality_scale[0] and num_deaths <= mortality_scale[1]:\n",
        "            hurricanes_by_mortality[1].append(hurricanes[hurricane])\n",
        "        elif num_deaths > mortality_scale[1] and num_deaths <= mortality_scale[2]:\n",
        "            hurricanes_by_mortality[2].append(hurricanes[hurricane])\n",
        "        elif num_deaths > mortality_scale[2] and num_deaths <= mortality_scale[3]:\n",
        "            hurricanes_by_mortality[3].append(hurricanes[hurricane])\n",
        "        elif num_deaths > mortality_scale[3] and num_deaths <= mortality_scale[4]:\n",
        "            hurricanes_by_mortality[4].append(hurricanes[hurricane])\n",
        "        elif num_deaths > mortality_scale[4]:\n",
        "            hurricanes_by_mortality[5].append(hurricanes[hurricane])\n",
        "    return hurricanes_by_mortality\n",
        "\n",
        "\n",
        "# categorize hurricanes in new dictionary with mortality severity as key\n",
        "hurricanes_by_mortality = categority_hurricanes_by_mortality(hurricanes)\n",
        "print(hurricanes_by_mortality[5])"
      ]
    },
    {
      "cell_type": "markdown",
      "id": "199b0e1c",
      "metadata": {
        "id": "199b0e1c"
      },
      "source": [
        "8. Write a function that finds the hurricane that caused the greatest damage, and how costly it was.\n",
        "\n",
        "   Test your function on your hurricane dictionary."
      ]
    },
    {
      "cell_type": "code",
      "execution_count": 28,
      "id": "b3dc79b4",
      "metadata": {
        "colab": {
          "base_uri": "https://localhost:8080/"
        },
        "id": "b3dc79b4",
        "outputId": "d6dc1886-6a67-4d19-ea90-4c53f075b8c9"
      },
      "outputs": [
        {
          "output_type": "stream",
          "name": "stdout",
          "text": [
            "Katrina 125000000000.0\n"
          ]
        }
      ],
      "source": [
        "# 8\n",
        "# Calculating Hurricane Maximum Damage\n",
        "def highest_damage(hurricanes):\n",
        "    \"\"\"Find the hurricane that caused the greatest damage, and how costly it\n",
        "    was.\"\"\"\n",
        "    max_damage_hurricane = \"\"\n",
        "    max_damage_cost = 0\n",
        "    for hurricane in hurricanes:\n",
        "        if hurricanes[hurricane]['Damage'] == \"Damages not recorded\":\n",
        "            pass\n",
        "        elif hurricanes[hurricane]['Damage'] > max_damage_cost:\n",
        "            max_damage_hurricane = hurricane\n",
        "            max_damage_cost = hurricanes[hurricane]['Damage']\n",
        "    return max_damage_hurricane, max_damage_cost\n",
        "\n",
        "\n",
        "# find highest damage inducing hurricane and its total cost\n",
        "max_damage_hurricane, max_damage_cost = highest_damage(hurricanes)\n",
        "print(max_damage_hurricane, max_damage_cost)"
      ]
    },
    {
      "cell_type": "markdown",
      "id": "58d22ddc",
      "metadata": {
        "id": "58d22ddc"
      },
      "source": [
        "9. Lastly, you want to rate hurricanes according to how much damage they cause.\n",
        "\n",
        "   Write a function that rates hurricanes on a damage scale according to the following ratings, where the key is the rating and the value is the upper bound of damage for that rating.\n",
        "   ```py\n",
        "   damage_scale = {0: 0,\n",
        "   1: 100000000,\n",
        "   2: 1000000000,\n",
        "   3: 10000000000,\n",
        "   4: 50000000000}\n",
        "   ```\n",
        "   \n",
        "   For example, a hurricane with a `1` damage rating would have resulted in damages greater than `0` USD but less than or equal to `100000000` USD. A hurricane with a `5` damage rating would have resulted in damages greater than `50000000000` USD (talk about a lot of money).\n",
        "   \n",
        "   Store the hurricanes in a new dictionary where the keys are damage ratings and the values are lists containing a dictionary for each hurricane that falls into that damage rating.\n",
        "   \n",
        "   Test your function on your hurricane dictionary."
      ]
    },
    {
      "cell_type": "code",
      "execution_count": 29,
      "id": "e543f487",
      "metadata": {
        "colab": {
          "base_uri": "https://localhost:8080/"
        },
        "id": "e543f487",
        "outputId": "de9fadd5-380e-481b-fead-bacbd3e5e902"
      },
      "outputs": [
        {
          "output_type": "stream",
          "name": "stdout",
          "text": [
            "[{'Name': 'Katrina', 'Month': 'August', 'Year': 2005, 'Max Sustained Winds': 175, 'Areas Affected': ['Bahamas', 'United States Gulf Coast'], 'Damage': 125000000000.0, 'Deaths': 1836}, {'Name': 'Irma', 'Month': 'September', 'Year': 2017, 'Max Sustained Winds': 180, 'Areas Affected': ['Cape Verde', 'The Caribbean', 'British Virgin Islands', 'U.S. Virgin Islands', 'Cuba', 'Florida'], 'Damage': 64800000000.0, 'Deaths': 138}, {'Name': 'Maria', 'Month': 'September', 'Year': 2017, 'Max Sustained Winds': 175, 'Areas Affected': ['Lesser Antilles', 'Virgin Islands', 'Puerto Rico', 'Dominican Republic', 'Turks and Caicos Islands'], 'Damage': 91600000000.0, 'Deaths': 3057}]\n"
          ]
        }
      ],
      "source": [
        "# 9\n",
        "# Rating Hurricanes by Damage\n",
        "def categorize_by_damage(hurricanes):\n",
        "    \"\"\"Categorize hurricanes by damage and return a dictionary.\"\"\"\n",
        "    damage_scale = {0: 0,\n",
        "                    1: 100000000,\n",
        "                    2: 1000000000,\n",
        "                    3: 10000000000,\n",
        "                    4: 50000000000}\n",
        "    hurricanes_by_damage = {0:[], 1:[], 2:[], 3:[], 4:[], 5:[]}\n",
        "    for cane in hurricanes:\n",
        "        total_damage = hurricanes[cane]['Damage']\n",
        "        if total_damage == \"Damages not recorded\":\n",
        "            hurricanes_by_damage[0].append(hurricanes[cane])\n",
        "        elif total_damage == damage_scale[0]:\n",
        "            hurricanes_by_damage[0].append(hurricanes[cane])\n",
        "        elif total_damage > damage_scale[0] and total_damage <= damage_scale[1]:\n",
        "            hurricanes_by_damage[1].append(hurricanes[cane])\n",
        "        elif total_damage > damage_scale[1] and total_damage <= damage_scale[2]:\n",
        "            hurricanes_by_damage[2].append(hurricanes[cane])\n",
        "        elif total_damage > damage_scale[2] and total_damage <= damage_scale[3]:\n",
        "            hurricanes_by_damage[3].append(hurricanes[cane])\n",
        "        elif total_damage > damage_scale[3] and total_damage <= damage_scale[4]:\n",
        "            hurricanes_by_damage[4].append(hurricanes[cane])\n",
        "        elif total_damage > damage_scale[4]:\n",
        "            hurricanes_by_damage[5].append(hurricanes[cane])\n",
        "    return hurricanes_by_damage\n",
        "\n",
        "\n",
        "# categorize hurricanes in new dictionary with damage severity as key\n",
        "hurricanes_by_damage = categorize_by_damage(hurricanes)\n",
        "print(hurricanes_by_damage[5])"
      ]
    },
    {
      "cell_type": "markdown",
      "id": "928c5fd2",
      "metadata": {
        "id": "928c5fd2"
      },
      "source": [
        "## Solution"
      ]
    },
    {
      "cell_type": "markdown",
      "id": "252616a3",
      "metadata": {
        "id": "252616a3"
      },
      "source": [
        "Great work! View the **Hurricane Analysis_Solution.ipynb** file or visit [our forums](https://discuss.codecademy.com/t/hurricane-analysis-challenge-project-python/462363) to compare your project to our sample solution code. You can also learn how to host your own solution on GitHub so you can share it with other learners! Your solution might look different than ours, and that's okay! There are multiple ways to solve these projects, and you'll learn more by seeing others' code."
      ]
    },
    {
      "cell_type": "code",
      "execution_count": null,
      "id": "da8f7141",
      "metadata": {
        "id": "da8f7141"
      },
      "outputs": [],
      "source": []
    }
  ],
  "metadata": {
    "kernelspec": {
      "display_name": "Python 3.10.8 64-bit (microsoft store)",
      "language": "python",
      "name": "python3"
    },
    "language_info": {
      "codemirror_mode": {
        "name": "ipython",
        "version": 3
      },
      "file_extension": ".py",
      "mimetype": "text/x-python",
      "name": "python",
      "nbconvert_exporter": "python",
      "pygments_lexer": "ipython3",
      "version": "3.10.8"
    },
    "vscode": {
      "interpreter": {
        "hash": "b784193cf0f9970b27f3c12f21dbff8ed97e3cf923dc23fe210654173bc3fdd0"
      }
    },
    "colab": {
      "provenance": [],
      "include_colab_link": true
    }
  },
  "nbformat": 4,
  "nbformat_minor": 5
}