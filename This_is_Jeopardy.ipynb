{
  "cells": [
    {
      "cell_type": "markdown",
      "metadata": {
        "id": "view-in-github",
        "colab_type": "text"
      },
      "source": [
        "<a href=\"https://colab.research.google.com/github/smmurdock/Codecademy-projects/blob/main/This_is_Jeopardy.ipynb\" target=\"_parent\"><img src=\"https://colab.research.google.com/assets/colab-badge.svg\" alt=\"Open In Colab\"/></a>"
      ]
    },
    {
      "cell_type": "markdown",
      "metadata": {
        "id": "iZRlFbiSFFVH"
      },
      "source": [
        "# This is Jeopardy!"
      ]
    },
    {
      "cell_type": "markdown",
      "metadata": {
        "id": "waMBZWFiFFVI"
      },
      "source": [
        "#### Overview"
      ]
    },
    {
      "cell_type": "markdown",
      "metadata": {
        "id": "-3usMjT2FFVI"
      },
      "source": [
        "This project is slightly different than others you have encountered thus far. Instead of a step-by-step tutorial, this project contains a series of open-ended requirements which describe the project you'll be building. There are many possible ways to correctly fulfill all of these requirements, and you should expect to use the internet, Codecademy, and/or other resources when you encounter a problem that you cannot easily solve."
      ]
    },
    {
      "cell_type": "markdown",
      "metadata": {
        "id": "IfsyJvqaFFVJ"
      },
      "source": [
        "#### Project Goals"
      ]
    },
    {
      "cell_type": "markdown",
      "metadata": {
        "id": "_pfb6Ja1FFVJ"
      },
      "source": [
        "You will work to write several functions that investigate a dataset of _Jeopardy!_ questions and answers. Filter the dataset for topics that you're interested in, compute the average difficulty of those questions, and train to become the next Jeopardy champion!"
      ]
    },
    {
      "cell_type": "markdown",
      "metadata": {
        "id": "bTCDQep6FFVJ"
      },
      "source": [
        "## Prerequisites"
      ]
    },
    {
      "cell_type": "markdown",
      "metadata": {
        "id": "UccUQRl_FFVJ"
      },
      "source": [
        "In order to complete this project, you should have completed the Pandas lessons in the <a href=\"https://www.codecademy.com/learn/paths/analyze-data-with-python\">Analyze Data with Python Skill Path</a>. You can also find those lessons in the <a href=\"https://www.codecademy.com/learn/data-processing-pandas\">Data Analysis with Pandas course</a> or the <a href=\"https://www.codecademy.com/learn/paths/data-science/\">Data Scientist Career Path</a>.\n",
        "\n",
        "Finally, the <a href=\"https://www.codecademy.com/learn/practical-data-cleaning\">Practical Data Cleaning</a> course may also be helpful."
      ]
    },
    {
      "cell_type": "markdown",
      "metadata": {
        "id": "lqZ6A6vaFFVK"
      },
      "source": [
        "## Project Requirements"
      ]
    },
    {
      "cell_type": "code",
      "source": [
        "from google.colab import drive\n",
        "drive.mount('/content/drive')"
      ],
      "metadata": {
        "colab": {
          "base_uri": "https://localhost:8080/"
        },
        "id": "gGAHiLbYHayE",
        "outputId": "b6fd722d-18b3-4681-8db9-d1d58ece76e0"
      },
      "execution_count": null,
      "outputs": [
        {
          "output_type": "stream",
          "name": "stdout",
          "text": [
            "Mounted at /content/drive\n"
          ]
        }
      ]
    },
    {
      "cell_type": "code",
      "source": [
        "cd /content/drive/MyDrive/1 Projects/Codecademy Off-Platform Projects/Codecademy This is Jeopardy!"
      ],
      "metadata": {
        "colab": {
          "base_uri": "https://localhost:8080/"
        },
        "id": "UuisP0ZRHo8l",
        "outputId": "eba3edd3-2b1a-49a7-cc5d-f06247b902ac"
      },
      "execution_count": null,
      "outputs": [
        {
          "output_type": "stream",
          "name": "stdout",
          "text": [
            "/content/drive/MyDrive/1 Projects/Codecademy Off-Platform Projects/Codecademy This is Jeopardy!\n"
          ]
        }
      ]
    },
    {
      "cell_type": "markdown",
      "metadata": {
        "id": "MJxydL9FFFVK"
      },
      "source": [
        "1. We've provided a csv file containing data about the game show _Jeopardy!_ in a file named `jeopardy.csv`. Load the data into a DataFrame and investigate its contents. Try to print out specific columns.\n",
        "\n",
        "   Note that in order to make this project as \"real-world\" as possible, we haven't modified the data at all - we're giving it to you exactly how we found it. As a result, this data isn't as \"clean\" as the datasets you normally find on Codecademy. More specifically, there's something odd about the column names. After you figure out the problem with the column names, you may want to rename them to make your life easier for the rest of the project.\n",
        "   \n",
        "   In order to display the full contents of a column, we've added this line of code for you:\n",
        "   \n",
        "   ```py\n",
        "   pd.set_option('display.max_colwidth', None)\n",
        "   ```"
      ]
    },
    {
      "cell_type": "code",
      "execution_count": 8,
      "metadata": {
        "colab": {
          "base_uri": "https://localhost:8080/"
        },
        "id": "6v6UMePCFFVK",
        "outputId": "0aeb65af-a1ff-40a3-ed11-ac5acca15fff"
      },
      "outputs": [
        {
          "output_type": "stream",
          "name": "stdout",
          "text": [
            "Index(['Show Number', ' Air Date', ' Round', ' Category', ' Value',\n",
            "       ' Question', ' Answer'],\n",
            "      dtype='object')\n",
            "Index(['Show Number', 'Air Date', 'Round', 'Category', 'Value', 'Question',\n",
            "       'Answer'],\n",
            "      dtype='object')\n"
          ]
        }
      ],
      "source": [
        "import pandas as pd\n",
        "pd.set_option('display.max_colwidth', None)\n",
        "\n",
        "jeopardy_data = pd.read_csv('jeopardy.csv')\n",
        "print(jeopardy_data.columns)\n",
        "\n",
        "jeopardy_data = jeopardy_data.rename(columns={\n",
        "  \" Air Date\": \"Air Date\",\n",
        "  \" Round\": \"Round\",\n",
        "  \" Category\": \"Category\",\n",
        "  \" Value\": \"Value\",\n",
        "  \" Question\": \"Question\",\n",
        "  \" Answer\": \"Answer\"\n",
        "})\n",
        "print(jeopardy_data.columns)"
      ]
    },
    {
      "cell_type": "markdown",
      "metadata": {
        "id": "RmQ7XvmOFFVK"
      },
      "source": [
        "2. Write a function that filters the dataset for questions that contains all of the words in a list of words. For example, when the list `[\"King\", \"England\"]` was passed to our function, the function returned a DataFrame of 49 rows. Every row had the strings `\"King\"` and `\"England\"` somewhere in its `\" Question\"`.\n",
        "\n",
        "   Test your function by printing out the column containing the question of each row of the dataset."
      ]
    },
    {
      "cell_type": "code",
      "execution_count": 9,
      "metadata": {
        "colab": {
          "base_uri": "https://localhost:8080/"
        },
        "id": "E_5zFLNHFFVK",
        "outputId": "2b02f759-e274-4fb0-e340-39c26f733777"
      },
      "outputs": [
        {
          "output_type": "stream",
          "name": "stdout",
          "text": [
            "4953                    Both England's King George V & FDR put their stamp of approval on this \"King of Hobbies\"\n",
            "6337      In retaliation for Viking raids, this \"Unready\" king of England attacks Norse areas of the Isle of Man\n",
            "9191                    This king of England beat the odds to trounce the French in the 1415 Battle of Agincourt\n",
            "11710               This Scotsman, the first Stuart king of England, was called \"The Wisest Fool in Christendom\"\n",
            "13454                                       It's the number that followed the last king of England named William\n",
            "                                                           ...                                                  \n",
            "208295        In 1066 this great-great grandson of Rollo made what some call the last Viking invasion of England\n",
            "208742                      Dutch-born king who ruled England jointly with Mary II & is a tasty New Zealand fish\n",
            "213870                In 1781 William Herschel discovered Uranus & initially named it after this king of England\n",
            "216021          His nickname was \"Bertie\", but he used this name & number when he became king of England in 1901\n",
            "216789        This kingdom of England grew from 2 settlements, one founded around 495 by Cerdic & his son Cynric\n",
            "Name: Question, Length: 152, dtype: object\n"
          ]
        }
      ],
      "source": [
        "# Write a function that filters the dataset for questions that contains all of the words in a list of words\n",
        "def filter_data(data, words):\n",
        "    filter = lambda x: all(word.lower() in x.lower() for word in words)\n",
        "    return data.loc[data[\"Question\"].apply(filter)]\n",
        "\n",
        "# Test function by printing out the column containing the question of each row of the dataset\n",
        "filtered = filter_data(jeopardy_data, [\"King\", \"England\"])\n",
        "print(filtered[\"Question\"])"
      ]
    },
    {
      "cell_type": "markdown",
      "metadata": {
        "id": "rDIHOHK8FFVL"
      },
      "source": [
        "3. Test your original function with a few different sets of words to try to find some ways your function breaks. Edit your function so it is more robust.\n",
        "\n",
        "   For example, think about capitalization. We probably want to find questions that contain the word `\"King\"` or `\"king\"`.\n",
        "   \n",
        "   You may also want to check to make sure you don't find rows that contain substrings of your given words. For example, our function found a question that didn't contain the word `\"king\"`, however it did contain the word `\"viking\"` &mdash; it found the `\"king\"` inside `\"viking\"`. Note that this also comes with some drawbacks &mdash; you would no longer find questions that contained words like `\"England's\"`."
      ]
    },
    {
      "cell_type": "code",
      "execution_count": 10,
      "metadata": {
        "id": "H5hkgedoFFVL",
        "colab": {
          "base_uri": "https://localhost:8080/"
        },
        "outputId": "48566b02-a1f4-4ded-a89d-158a0bc67e47"
      },
      "outputs": [
        {
          "output_type": "stream",
          "name": "stdout",
          "text": [
            "4953                    Both England's King George V & FDR put their stamp of approval on this \"King of Hobbies\"\n",
            "6337      In retaliation for Viking raids, this \"Unready\" king of England attacks Norse areas of the Isle of Man\n",
            "9191                    This king of England beat the odds to trounce the French in the 1415 Battle of Agincourt\n",
            "11710               This Scotsman, the first Stuart king of England, was called \"The Wisest Fool in Christendom\"\n",
            "13454                                       It's the number that followed the last king of England named William\n",
            "                                                           ...                                                  \n",
            "208295        In 1066 this great-great grandson of Rollo made what some call the last Viking invasion of England\n",
            "208742                      Dutch-born king who ruled England jointly with Mary II & is a tasty New Zealand fish\n",
            "213870                In 1781 William Herschel discovered Uranus & initially named it after this king of England\n",
            "216021          His nickname was \"Bertie\", but he used this name & number when he became king of England in 1901\n",
            "216789        This kingdom of England grew from 2 settlements, one founded around 495 by Cerdic & his son Cynric\n",
            "Name: Question, Length: 152, dtype: object\n"
          ]
        }
      ],
      "source": [
        "# Test function by printing out the column containing the question of each row of the dataset\n",
        "filtered = filter_data(jeopardy_data, [\"King\", \"England\"])\n",
        "print(filtered[\"Question\"])"
      ]
    },
    {
      "cell_type": "markdown",
      "metadata": {
        "id": "2hVUuA7VFFVL"
      },
      "source": [
        "4. We may want to eventually compute aggregate statistics, like `.mean()` on the `\" Value\"` column. But right now, the values in that column are strings. Convert the`\" Value\"` column to floats. If you'd like to, you can create a new column with float values.\n",
        "\n",
        "   While most of the values in the `\" Value\"` column represent a dollar amount as a string, note that some do not &mdash; these values will need to be handled differently!\n",
        "\n",
        "   Now that you can filter the dataset of question, use your new column that contains the float values of each question to find the \"difficulty\" of certain topics. For example, what is the average value of questions that contain the word `\"King\"`?\n",
        "   \n",
        "   Make sure to use the dataset that contains the float values as the dataset you use in your filtering function."
      ]
    },
    {
      "cell_type": "code",
      "execution_count": 12,
      "metadata": {
        "id": "_Ri3Xe8bFFVL",
        "colab": {
          "base_uri": "https://localhost:8080/"
        },
        "outputId": "63981568-1bfc-4693-b7e6-bce4a95ef5c2"
      },
      "outputs": [
        {
          "output_type": "stream",
          "name": "stdout",
          "text": [
            "771.8833850722094\n"
          ]
        }
      ],
      "source": [
        "# Add a new column\n",
        "# If the float column is not \"None\",\n",
        "# - remove first character (\"$\") and replace all commas\n",
        "# - replace all commas with empty string\n",
        "# - cast value as a float\n",
        "# If the value is \"None\", replace with 0\n",
        "jeopardy_data[\"Float Value\"] = jeopardy_data[\"Value\"].apply(lambda x: float(x[1:].replace(',','')) if x != \"no value\" else 0)\n",
        "\n",
        "# Filter the dataset and find average value of filtered questions\n",
        "filtered = filter_data(jeopardy_data, [\"King\"])\n",
        "print(filtered[\"Float Value\"].mean())"
      ]
    },
    {
      "cell_type": "markdown",
      "metadata": {
        "id": "uwIsjbaqFFVL"
      },
      "source": [
        "5. Write a function that returns the count of unique answers to all of the questions in a dataset. For example, after filtering the entire dataset to only questions containing the word `\"King\"`, we could then find all of the unique answers to those questions. The answer \"Henry VIII\" appeared 55 times and was the most common answer."
      ]
    },
    {
      "cell_type": "code",
      "execution_count": 15,
      "metadata": {
        "id": "m1_xlFgZFFVL",
        "colab": {
          "base_uri": "https://localhost:8080/"
        },
        "outputId": "3e0131ca-5a16-4ede-faf3-823beb92f55b"
      },
      "outputs": [
        {
          "output_type": "stream",
          "name": "stdout",
          "text": [
            "Answer\n",
            "Henry VIII         55\n",
            "Solomon            35\n",
            "Richard III        33\n",
            "Louis XIV          31\n",
            "David              30\n",
            "                   ..\n",
            "francs              1\n",
            "an idyll            1\n",
            "The Magna Carta     1\n",
            "adrift              1\n",
            "a dream             1\n",
            "Name: count, Length: 5268, dtype: int64\n"
          ]
        }
      ],
      "source": [
        "# Write a function that returns the count of unique answers to all of the questions\n",
        "def get_answer_counts(data):\n",
        "    return data[\"Answer\"].value_counts()\n",
        "\n",
        "# Test function\n",
        "print(get_answer_counts(filtered))"
      ]
    },
    {
      "cell_type": "markdown",
      "metadata": {
        "id": "LPuvC5UOFFVL"
      },
      "source": [
        "6. Explore from here! This is an incredibly rich dataset, and there are so many interesting things to discover. There are a few columns that we haven't even started looking at yet. Here are some ideas on ways to continue working with this data:\n",
        "\n",
        " * Investigate the ways in which questions change over time by filtering by the date. How many questions from the 90s use the word `\"Computer\"` compared to questions from the 2000s?\n",
        " * Is there a connection between the round and the category? Are you more likely to find certain categories, like `\"Literature\"` in Single Jeopardy or Double Jeopardy?\n",
        " * Build a system to quiz yourself. Grab random questions, and use the <a href=\"https://docs.python.org/3/library/functions.html#input\">input</a> function to get a response from the user. Check to see if that response was right or wrong."
      ]
    },
    {
      "cell_type": "code",
      "execution_count": null,
      "metadata": {
        "id": "n6DhFEk4FFVL"
      },
      "outputs": [],
      "source": []
    },
    {
      "cell_type": "markdown",
      "metadata": {
        "id": "5yV_3z4CFFVL"
      },
      "source": [
        "## Solution"
      ]
    },
    {
      "cell_type": "markdown",
      "metadata": {
        "id": "jBiRHaWAFFVL"
      },
      "source": [
        "7. Compare your program to our <a href=\"https://content.codecademy.com/PRO/independent-practice-projects/jeopardy/jeopardy_solution.zip\">sample solution code</a> - remember, that your program might look different from ours (and probably will) and that's okay!"
      ]
    },
    {
      "cell_type": "markdown",
      "metadata": {
        "id": "J3Trcd4YFFVL"
      },
      "source": [
        "8. Great work! Visit <a href=\"https://discuss.codecademy.com/t/this-is-jeopardy-challenge-project-python-pandas/462365\">our forums</a> to compare your project to our sample solution code. You can also learn how to host your own solution on GitHub so you can share it with other learners! Your solution might look different from ours, and that's okay! There are multiple ways to solve these projects, and you'll learn more by seeing others' code."
      ]
    },
    {
      "cell_type": "code",
      "execution_count": null,
      "metadata": {
        "id": "obaC2w6FFFVL"
      },
      "outputs": [],
      "source": []
    }
  ],
  "metadata": {
    "kernelspec": {
      "display_name": "Python 3 (ipykernel)",
      "language": "python",
      "name": "python3"
    },
    "language_info": {
      "codemirror_mode": {
        "name": "ipython",
        "version": 3
      },
      "file_extension": ".py",
      "mimetype": "text/x-python",
      "name": "python",
      "nbconvert_exporter": "python",
      "pygments_lexer": "ipython3",
      "version": "3.7.11"
    },
    "colab": {
      "provenance": [],
      "toc_visible": true,
      "include_colab_link": true
    }
  },
  "nbformat": 4,
  "nbformat_minor": 0
}