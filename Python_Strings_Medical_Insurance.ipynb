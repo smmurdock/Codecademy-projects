{
  "cells": [
    {
      "cell_type": "markdown",
      "metadata": {
        "id": "view-in-github",
        "colab_type": "text"
      },
      "source": [
        "<a href=\"https://colab.research.google.com/github/smmurdock/Codecademy-projects/blob/main/Python_Strings_Medical_Insurance.ipynb\" target=\"_parent\"><img src=\"https://colab.research.google.com/assets/colab-badge.svg\" alt=\"Open In Colab\"/></a>"
      ]
    },
    {
      "cell_type": "markdown",
      "id": "42ebf3a6",
      "metadata": {
        "id": "42ebf3a6"
      },
      "source": [
        "# Python Strings: Medical Insurance Project"
      ]
    },
    {
      "cell_type": "markdown",
      "id": "7fdabfc2",
      "metadata": {
        "id": "7fdabfc2"
      },
      "source": [
        "You are a doctor who needs to clean up medical patient records, which are currently stored in one large string.\n",
        "\n",
        "In this project, you will use your new knowledge of Python strings to obtain and clean up medical data so that it is easier to read and analyze.\n",
        "\n",
        "Let's get started!"
      ]
    },
    {
      "cell_type": "markdown",
      "id": "b43c5043",
      "metadata": {
        "id": "b43c5043"
      },
      "source": [
        "## Working with Strings"
      ]
    },
    {
      "cell_type": "markdown",
      "id": "946b626b",
      "metadata": {
        "id": "946b626b"
      },
      "source": [
        "1. First, take a look at the code in the code block below.\n",
        "\n",
        "   The string `medical_data` stores the medical records for ten individuals. Each record is separated by a `;` and contains the name, age, BMI (body mass index), and insurance cost for an individual, in that order.\n",
        "   \n",
        "   Print `medical_data` to see the output below the code block."
      ]
    },
    {
      "cell_type": "code",
      "execution_count": 2,
      "id": "98d79856",
      "metadata": {
        "id": "98d79856"
      },
      "outputs": [],
      "source": [
        "medical_data = \\\n",
        "\"\"\"Marina Allison   ,27   ,   31.1 ,\n",
        "#7010.0   ;Markus Valdez   ,   30,\n",
        "22.4,   #4050.0 ;Connie Ballard ,43\n",
        ",   25.3 , #12060.0 ;Darnell Weber\n",
        ",   35   , 20.6   , #7500.0;\n",
        "Sylvie Charles   ,22, 22.1\n",
        ",#3022.0   ;   Vinay Padilla,24,\n",
        "26.9 ,#4620.0 ;Meredith Santiago, 51   ,\n",
        "29.3 ,#16330.0;   Andre Mccarty,\n",
        "19,22.7 , #2900.0 ;\n",
        "Lorena Hodson ,65, 33.1 , #19370.0;\n",
        "Isaac Vu ,34, 24.8,   #7045.0\"\"\"\n"
      ]
    },
    {
      "cell_type": "markdown",
      "id": "027929c1",
      "metadata": {
        "id": "027929c1"
      },
      "source": [
        "2. We want the insurance costs to be represented in US dollars.\n",
        "\n",
        "   Replace all instances of `#` in `medical_data` with `$`. Store the result in a variable called `updated_medical_data`.\n",
        "   \n",
        "   Print `updated_medical_data`."
      ]
    },
    {
      "cell_type": "code",
      "execution_count": 3,
      "id": "0fafcc50",
      "metadata": {
        "colab": {
          "base_uri": "https://localhost:8080/"
        },
        "id": "0fafcc50",
        "outputId": "49ed1bf0-0c72-43ad-c096-5ee4920e0faa"
      },
      "outputs": [
        {
          "output_type": "stream",
          "name": "stdout",
          "text": [
            "Marina Allison   ,27   ,   31.1 , \n",
            "$7010.0   ;Markus Valdez   ,   30, \n",
            "22.4,   $4050.0 ;Connie Ballard ,43 \n",
            ",   25.3 , $12060.0 ;Darnell Weber   \n",
            ",   35   , 20.6   , $7500.0;\n",
            "Sylvie Charles   ,22, 22.1 \n",
            ",$3022.0   ;   Vinay Padilla,24,   \n",
            "26.9 ,$4620.0 ;Meredith Santiago, 51   , \n",
            "29.3 ,$16330.0;   Andre Mccarty, \n",
            "19,22.7 , $2900.0 ; \n",
            "Lorena Hodson ,65, 33.1 , $19370.0; \n",
            "Isaac Vu ,34, 24.8,   $7045.0\n"
          ]
        }
      ],
      "source": [
        "updated_medical_data = medical_data.replace(\"#\", \"$\")\n",
        "print(updated_medical_data)"
      ]
    },
    {
      "cell_type": "markdown",
      "id": "c8077148",
      "metadata": {
        "id": "c8077148"
      },
      "source": [
        "3. We want to calculate the number of medical records in our data.\n",
        "\n",
        "   Create a variable called `num_records` and initialize it at 0."
      ]
    },
    {
      "cell_type": "code",
      "execution_count": 4,
      "id": "9da8e807",
      "metadata": {
        "id": "9da8e807"
      },
      "outputs": [],
      "source": [
        "num_records = 0"
      ]
    },
    {
      "cell_type": "markdown",
      "id": "01a5a118",
      "metadata": {
        "id": "01a5a118"
      },
      "source": [
        "4. Next, write a `for` loop to iterate through the `updated_medical_data` string. Inside of the loop, add `1` to `num_records` when the current character is equal to `$`."
      ]
    },
    {
      "cell_type": "code",
      "execution_count": 5,
      "id": "7d5aaabf",
      "metadata": {
        "id": "7d5aaabf"
      },
      "outputs": [],
      "source": [
        "for character in updated_medical_data:\n",
        "    if character == \"$\":\n",
        "        num_records += 1"
      ]
    },
    {
      "cell_type": "markdown",
      "id": "8649dd50",
      "metadata": {
        "id": "8649dd50"
      },
      "source": [
        "5. Outside of the loop, print `num_records` with the following message:\n",
        "\n",
        "   ```\n",
        "   There are {num_records} medical records in the data.\n",
        "   ```"
      ]
    },
    {
      "cell_type": "code",
      "execution_count": 6,
      "id": "6638542f",
      "metadata": {
        "colab": {
          "base_uri": "https://localhost:8080/"
        },
        "id": "6638542f",
        "outputId": "0ea07fca-4486-4eac-8174-6b121288544d"
      },
      "outputs": [
        {
          "output_type": "stream",
          "name": "stdout",
          "text": [
            "There are 10 medical records in the data\n"
          ]
        }
      ],
      "source": [
        "print(f\"There are {num_records} medical records in the data\")"
      ]
    },
    {
      "cell_type": "markdown",
      "id": "10897f50",
      "metadata": {
        "id": "10897f50"
      },
      "source": [
        "## Splitting Strings"
      ]
    },
    {
      "cell_type": "markdown",
      "id": "585614f8",
      "metadata": {
        "id": "585614f8"
      },
      "source": [
        "6. The medical data in its current form is difficult to analyze. An essential job for a data scientist is to clean up data so that it's easy to work with.\n",
        "\n",
        "   Let's start off by splitting the `updated_medical_data` string into a list of each record. Remember that each medical record is separated by a `;` in the string.\n",
        "   \n",
        "   Store the result in a variable called `medical_data_split` and print this variable."
      ]
    },
    {
      "cell_type": "code",
      "execution_count": 7,
      "id": "76cae5e8",
      "metadata": {
        "colab": {
          "base_uri": "https://localhost:8080/"
        },
        "id": "76cae5e8",
        "outputId": "879acb2a-d6a0-4870-eeaf-475b495b70f4"
      },
      "outputs": [
        {
          "output_type": "stream",
          "name": "stdout",
          "text": [
            "['Marina Allison   ,27   ,   31.1 , \\n$7010.0   ', 'Markus Valdez   ,   30, \\n22.4,   $4050.0 ', 'Connie Ballard ,43 \\n,   25.3 , $12060.0 ', 'Darnell Weber   \\n,   35   , 20.6   , $7500.0', '\\nSylvie Charles   ,22, 22.1 \\n,$3022.0   ', '   Vinay Padilla,24,   \\n26.9 ,$4620.0 ', 'Meredith Santiago, 51   , \\n29.3 ,$16330.0', '   Andre Mccarty, \\n19,22.7 , $2900.0 ', ' \\nLorena Hodson ,65, 33.1 , $19370.0', ' \\nIsaac Vu ,34, 24.8,   $7045.0']\n"
          ]
        }
      ],
      "source": [
        "medical_data_split = updated_medical_data.split(\";\")\n",
        "print(medical_data_split)"
      ]
    },
    {
      "cell_type": "markdown",
      "id": "1eb23af4",
      "metadata": {
        "id": "1eb23af4"
      },
      "source": [
        "7. Our data is now stored in a list, but it is still hard to read. Let's split each medical record into its own list.\n",
        "\n",
        "   First, define an empty list called `medical_records`."
      ]
    },
    {
      "cell_type": "code",
      "execution_count": 8,
      "id": "434ed907",
      "metadata": {
        "id": "434ed907"
      },
      "outputs": [],
      "source": [
        "medical_records = []"
      ]
    },
    {
      "cell_type": "markdown",
      "id": "1d28c632",
      "metadata": {
        "id": "1d28c632"
      },
      "source": [
        "8. Next, iterate through `medical_data_split` and for each record, split the string after each comma (`,`) and append the split string to `medical_records`.\n",
        "\n",
        "   Print `medical_records` after the loop."
      ]
    },
    {
      "cell_type": "code",
      "execution_count": 9,
      "id": "d57c33b1",
      "metadata": {
        "colab": {
          "base_uri": "https://localhost:8080/"
        },
        "id": "d57c33b1",
        "outputId": "da7114cc-410a-4ce7-ff6f-4cdcec71ed8c"
      },
      "outputs": [
        {
          "output_type": "stream",
          "name": "stdout",
          "text": [
            "[['Marina Allison   ', '27   ', '   31.1 ', ' \\n$7010.0   '], ['Markus Valdez   ', '   30', ' \\n22.4', '   $4050.0 '], ['Connie Ballard ', '43 \\n', '   25.3 ', ' $12060.0 '], ['Darnell Weber   \\n', '   35   ', ' 20.6   ', ' $7500.0'], ['\\nSylvie Charles   ', '22', ' 22.1 \\n', '$3022.0   '], ['   Vinay Padilla', '24', '   \\n26.9 ', '$4620.0 '], ['Meredith Santiago', ' 51   ', ' \\n29.3 ', '$16330.0'], ['   Andre Mccarty', ' \\n19', '22.7 ', ' $2900.0 '], [' \\nLorena Hodson ', '65', ' 33.1 ', ' $19370.0'], [' \\nIsaac Vu ', '34', ' 24.8', '   $7045.0']]\n"
          ]
        }
      ],
      "source": [
        "for record in medical_data_split:\n",
        "    medical_records.append(record.split(\",\"))\n",
        "\n",
        "print(medical_records)"
      ]
    },
    {
      "cell_type": "markdown",
      "id": "82da2380",
      "metadata": {
        "id": "82da2380"
      },
      "source": [
        "## Cleaning Data"
      ]
    },
    {
      "cell_type": "markdown",
      "id": "5e07b261",
      "metadata": {
        "id": "5e07b261"
      },
      "source": [
        "9. Our data is now slightly more readable. However, it is not properly formatted - it contains unnecessary whitespace.\n",
        "\n",
        "   To fix this, let's start by creating an empty list called `medical_records_clean`."
      ]
    },
    {
      "cell_type": "code",
      "execution_count": 10,
      "id": "fe45e1b0",
      "metadata": {
        "id": "fe45e1b0"
      },
      "outputs": [],
      "source": [
        "medical_records_clean = []"
      ]
    },
    {
      "cell_type": "markdown",
      "id": "6c27f1d8",
      "metadata": {
        "id": "6c27f1d8"
      },
      "source": [
        "10. Next, use a `for` loop to iterate through `medical_records`.\n",
        "\n",
        "    Inside of the loop, create an empty list called `record_clean`. We'll use this list to store a formatted version of each medical record."
      ]
    },
    {
      "cell_type": "code",
      "execution_count": 11,
      "id": "1d13c527",
      "metadata": {
        "id": "1d13c527"
      },
      "outputs": [],
      "source": [
        "# for record in medical_records:\n",
        "#     record_clean = []\n",
        "#     pass"
      ]
    },
    {
      "cell_type": "markdown",
      "id": "af65cf51",
      "metadata": {
        "id": "af65cf51"
      },
      "source": [
        "11. After the `record_clean` variable, create a nested `for` loop that goes through each `record`:\n",
        "\n",
        "    ```py\n",
        "    for item in record\n",
        "    ```\n",
        "    \n",
        "    Inside of this loop, append `item.strip()` to `record_clean` to remove any whitespace from the string."
      ]
    },
    {
      "cell_type": "code",
      "execution_count": 12,
      "id": "62c68cf6",
      "metadata": {
        "id": "62c68cf6"
      },
      "outputs": [],
      "source": [
        "# for record in medical_records:\n",
        "#     record_clean = []\n",
        "#     for item in record:\n",
        "#         record_clean.append(item.strip())"
      ]
    },
    {
      "cell_type": "markdown",
      "id": "173d51bf",
      "metadata": {
        "id": "173d51bf"
      },
      "source": [
        "12. Finally, we need to add each cleaned up record to `medical_records_clean`.\n",
        "\n",
        "    Outside of the nested `for` loop, append `record_clean` to `medical_records_clean`."
      ]
    },
    {
      "cell_type": "code",
      "execution_count": 13,
      "id": "4ac79cd2",
      "metadata": {
        "id": "4ac79cd2"
      },
      "outputs": [],
      "source": [
        "for record in medical_records:\n",
        "    record_clean = []\n",
        "    for item in record:\n",
        "        record_clean.append(item.strip())\n",
        "    medical_records_clean.append(record_clean)"
      ]
    },
    {
      "cell_type": "markdown",
      "id": "d2f0344f",
      "metadata": {
        "id": "d2f0344f"
      },
      "source": [
        "13. Print `medical_records_clean` outside of the `for` loops to see the output.\n",
        "\n",
        "    You should see output that is formatted and much easier to read."
      ]
    },
    {
      "cell_type": "code",
      "execution_count": 14,
      "id": "c8ab9356",
      "metadata": {
        "colab": {
          "base_uri": "https://localhost:8080/"
        },
        "id": "c8ab9356",
        "outputId": "d5426f37-9d51-4131-a7df-2bb623d626fd"
      },
      "outputs": [
        {
          "output_type": "stream",
          "name": "stdout",
          "text": [
            "[['Marina Allison', '27', '31.1', '$7010.0'], ['Markus Valdez', '30', '22.4', '$4050.0'], ['Connie Ballard', '43', '25.3', '$12060.0'], ['Darnell Weber', '35', '20.6', '$7500.0'], ['Sylvie Charles', '22', '22.1', '$3022.0'], ['Vinay Padilla', '24', '26.9', '$4620.0'], ['Meredith Santiago', '51', '29.3', '$16330.0'], ['Andre Mccarty', '19', '22.7', '$2900.0'], ['Lorena Hodson', '65', '33.1', '$19370.0'], ['Isaac Vu', '34', '24.8', '$7045.0']]\n"
          ]
        }
      ],
      "source": [
        "print(medical_records_clean)"
      ]
    },
    {
      "cell_type": "markdown",
      "id": "e27bf497",
      "metadata": {
        "id": "e27bf497"
      },
      "source": [
        "## Analyzing Data"
      ]
    },
    {
      "cell_type": "markdown",
      "id": "9e73a4f2",
      "metadata": {
        "id": "9e73a4f2"
      },
      "source": [
        "14. Our data is now clean and ready for analysis.\n",
        "\n",
        "    For example, to print out the names of each of the ten individuals, we can use the following loop:\n",
        "    ```py\n",
        "    for record in medical_records_clean:\n",
        "      print(record[0])\n",
        "    ```\n",
        "    \n",
        "    Add this loop to the code block below and run it."
      ]
    },
    {
      "cell_type": "code",
      "execution_count": 15,
      "id": "3ade320b",
      "metadata": {
        "colab": {
          "base_uri": "https://localhost:8080/"
        },
        "id": "3ade320b",
        "outputId": "caf5eae0-afaa-4beb-c37c-37c494f57b3d"
      },
      "outputs": [
        {
          "output_type": "stream",
          "name": "stdout",
          "text": [
            "Marina Allison\n",
            "Markus Valdez\n",
            "Connie Ballard\n",
            "Darnell Weber\n",
            "Sylvie Charles\n",
            "Vinay Padilla\n",
            "Meredith Santiago\n",
            "Andre Mccarty\n",
            "Lorena Hodson\n",
            "Isaac Vu\n"
          ]
        }
      ],
      "source": [
        "for record in medical_records_clean:\n",
        "  print(record[0])"
      ]
    },
    {
      "cell_type": "markdown",
      "id": "283e1a2f",
      "metadata": {
        "id": "283e1a2f"
      },
      "source": [
        "15. You want all of the names in the medical records to be uppercase characters.\n",
        "\n",
        "    In the `for` loop, update `records[0]` before the `print` statement so that all of the characters are uppercase.\n",
        "    \n",
        "    Run the code to see the result."
      ]
    },
    {
      "cell_type": "code",
      "execution_count": 16,
      "id": "ee24f738",
      "metadata": {
        "colab": {
          "base_uri": "https://localhost:8080/"
        },
        "id": "ee24f738",
        "outputId": "ceb521f4-c9db-457b-b53e-ebd4bf6ff0bb"
      },
      "outputs": [
        {
          "output_type": "stream",
          "name": "stdout",
          "text": [
            "MARINA ALLISON\n",
            "MARKUS VALDEZ\n",
            "CONNIE BALLARD\n",
            "DARNELL WEBER\n",
            "SYLVIE CHARLES\n",
            "VINAY PADILLA\n",
            "MEREDITH SANTIAGO\n",
            "ANDRE MCCARTY\n",
            "LORENA HODSON\n",
            "ISAAC VU\n"
          ]
        }
      ],
      "source": [
        "for record in medical_records_clean:\n",
        "    record[0] = record[0].upper()\n",
        "    print(record[0])"
      ]
    },
    {
      "cell_type": "markdown",
      "id": "e16d6979",
      "metadata": {
        "id": "e16d6979"
      },
      "source": [
        "16. Let's store each name, age, BMI, and insurance cost in separate lists.\n",
        "\n",
        "    To start, create four empty lists:\n",
        "    - `names`\n",
        "    - `ages`\n",
        "    - `bmis`\n",
        "    - `insurance_costs`"
      ]
    },
    {
      "cell_type": "code",
      "execution_count": 17,
      "id": "e77b8028",
      "metadata": {
        "id": "e77b8028"
      },
      "outputs": [],
      "source": [
        "names = []\n",
        "ages = []\n",
        "bmis = []\n",
        "insurance_costs = []"
      ]
    },
    {
      "cell_type": "markdown",
      "id": "637e6b7e",
      "metadata": {
        "id": "637e6b7e"
      },
      "source": [
        "17. Next, iterate through `medical_records_clean` and for each record:\n",
        "    - Append the name to `names`.\n",
        "    - Append the age to `ages`.\n",
        "    - Append the BMI to `bmis`.\n",
        "    - Append the insurance cost to `insurance_costs`."
      ]
    },
    {
      "cell_type": "code",
      "execution_count": 18,
      "id": "2e370347",
      "metadata": {
        "id": "2e370347"
      },
      "outputs": [],
      "source": [
        "for record in medical_records_clean:\n",
        "    names.append(record[0])\n",
        "    ages.append(record[1])\n",
        "    bmis.append(record[2])\n",
        "    insurance_costs.append(record[3])"
      ]
    },
    {
      "cell_type": "markdown",
      "id": "92b26a50",
      "metadata": {
        "id": "92b26a50"
      },
      "source": [
        "18. Print `names`, `ages`, `bmis`, and `insurance_costs` outside of the loop.\n",
        "\n",
        "    Make sure the output is what you expect."
      ]
    },
    {
      "cell_type": "code",
      "execution_count": 20,
      "id": "72fd0613",
      "metadata": {
        "colab": {
          "base_uri": "https://localhost:8080/"
        },
        "id": "72fd0613",
        "outputId": "80015919-5aa3-42b6-ab18-8b2f1fefacad"
      },
      "outputs": [
        {
          "output_type": "stream",
          "name": "stdout",
          "text": [
            "Names: ['MARINA ALLISON', 'MARKUS VALDEZ', 'CONNIE BALLARD', 'DARNELL WEBER', 'SYLVIE CHARLES', 'VINAY PADILLA', 'MEREDITH SANTIAGO', 'ANDRE MCCARTY', 'LORENA HODSON', 'ISAAC VU']\n",
            "Ages: ['27', '30', '43', '35', '22', '24', '51', '19', '65', '34']\n",
            "BMIs: ['31.1', '22.4', '25.3', '20.6', '22.1', '26.9', '29.3', '22.7', '33.1', '24.8']\n",
            "Insurance Costs: ['$7010.0', '$4050.0', '$12060.0', '$7500.0', '$3022.0', '$4620.0', '$16330.0', '$2900.0', '$19370.0', '$7045.0']\n"
          ]
        }
      ],
      "source": [
        "print(\"Names: \" + str(names))\n",
        "print(\"Ages: \" + str(ages))\n",
        "print(\"BMIs: \" + str(bmis))\n",
        "print(\"Insurance Costs: \" + str(insurance_costs))"
      ]
    },
    {
      "cell_type": "markdown",
      "id": "c5ec3f19",
      "metadata": {
        "id": "c5ec3f19"
      },
      "source": [
        "19. Now that all of our data is in separate lists, we can easily perform analysis on that data. Let's calculate the average BMI in our dataset.\n",
        "\n",
        "    First, create a variable called `total_bmi` and set it equal to 0."
      ]
    },
    {
      "cell_type": "code",
      "execution_count": 21,
      "id": "303e90dd",
      "metadata": {
        "id": "303e90dd"
      },
      "outputs": [],
      "source": [
        "total_bmi = 0"
      ]
    },
    {
      "cell_type": "markdown",
      "id": "d2c713d2",
      "metadata": {
        "id": "d2c713d2"
      },
      "source": [
        "20. Next, use a `for` loop to iterate through `bmis` and add each `bmi` to `total_bmi`.\n",
        "\n",
        "    Remember to convert `bmi` to a float."
      ]
    },
    {
      "cell_type": "code",
      "execution_count": 22,
      "id": "b174204c",
      "metadata": {
        "id": "b174204c"
      },
      "outputs": [],
      "source": [
        "for bmi in bmis:\n",
        "    total_bmi += float(bmi)"
      ]
    },
    {
      "cell_type": "markdown",
      "id": "2b4017c1",
      "metadata": {
        "id": "2b4017c1"
      },
      "source": [
        "21. After the for loop, create a variable called `average_bmi` that stores the `total_bmi` divided by the length of the `bmis` list.\n",
        "\n",
        "    Print out `average_bmi` with the following message:\n",
        "    ```\n",
        "    Average BMI: {average_bmi}\n",
        "    ```"
      ]
    },
    {
      "cell_type": "code",
      "execution_count": 24,
      "id": "fc16ab5d",
      "metadata": {
        "colab": {
          "base_uri": "https://localhost:8080/"
        },
        "id": "fc16ab5d",
        "outputId": "5cda5025-6ec5-4634-c32c-dbc436b4e10b"
      },
      "outputs": [
        {
          "output_type": "stream",
          "name": "stdout",
          "text": [
            "Average BMI: 25.83\n"
          ]
        }
      ],
      "source": [
        "average_bmi = total_bmi / len(bmis)\n",
        "print(f\"Average BMI: {average_bmi:.2f}\")"
      ]
    },
    {
      "cell_type": "markdown",
      "id": "723d4d6f",
      "metadata": {
        "id": "723d4d6f"
      },
      "source": [
        "## Extra"
      ]
    },
    {
      "cell_type": "markdown",
      "id": "6b1a8e94",
      "metadata": {
        "id": "6b1a8e94"
      },
      "source": [
        "22. Congratulations! In this project, you used Python strings to transform and clean up medical data.\n",
        "\n",
        "    As a data scientist, it's important that you have clean and accurate data before you analyze it. You now have a better idea of the data preparation process moving forward.\n",
        "    \n",
        "    If you'd like extra practice with Python strings, here are some suggestions to get you started:\n",
        "    - Calculate the average insurance cost in `insurance_costs`. You will have the remove the `$` in order to calculate this.\n",
        "    - Write a for loop that outputs a string for each individual in the following format:\n",
        "    ```\n",
        "    Marina is 27 years old with a BMI of 31.1 and an insurance cost of $7010.0.\n",
        "Markus is 30 years old with a BMI of 22.4 and an insurance cost of $4050.0.\n",
        "    ...\n",
        "    ...\n",
        "    \n",
        "    Happy coding!"
      ]
    },
    {
      "cell_type": "code",
      "execution_count": 19,
      "id": "cbe47776",
      "metadata": {
        "id": "cbe47776"
      },
      "outputs": [],
      "source": []
    },
    {
      "cell_type": "code",
      "execution_count": 19,
      "id": "c30eba87",
      "metadata": {
        "id": "c30eba87"
      },
      "outputs": [],
      "source": []
    }
  ],
  "metadata": {
    "kernelspec": {
      "display_name": "Python 3 (ipykernel)",
      "language": "python",
      "name": "python3"
    },
    "language_info": {
      "codemirror_mode": {
        "name": "ipython",
        "version": 3
      },
      "file_extension": ".py",
      "mimetype": "text/x-python",
      "name": "python",
      "nbconvert_exporter": "python",
      "pygments_lexer": "ipython3",
      "version": "3.7.11"
    },
    "colab": {
      "provenance": [],
      "include_colab_link": true
    }
  },
  "nbformat": 4,
  "nbformat_minor": 5
}