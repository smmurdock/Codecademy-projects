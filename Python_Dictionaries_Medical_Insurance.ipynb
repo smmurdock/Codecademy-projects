{
  "cells": [
    {
      "cell_type": "markdown",
      "metadata": {
        "id": "view-in-github",
        "colab_type": "text"
      },
      "source": [
        "<a href=\"https://colab.research.google.com/github/smmurdock/Codecademy-projects/blob/main/Python_Dictionaries_Medical_Insurance.ipynb\" target=\"_parent\"><img src=\"https://colab.research.google.com/assets/colab-badge.svg\" alt=\"Open In Colab\"/></a>"
      ]
    },
    {
      "cell_type": "markdown",
      "id": "506b51bc",
      "metadata": {
        "id": "506b51bc"
      },
      "source": [
        "# Python Dictionaries: Medical Insurance Project"
      ]
    },
    {
      "cell_type": "markdown",
      "id": "862d76b9",
      "metadata": {
        "id": "862d76b9"
      },
      "source": [
        "You have been asked to create a program that organizes and updates medical records efficiently.\n",
        "\n",
        "In this project, you will use your new knowledge of Python dictionaries to create a database of medical records for patients.\n",
        "\n",
        "Let's get started!"
      ]
    },
    {
      "cell_type": "markdown",
      "id": "269b7e44",
      "metadata": {
        "id": "269b7e44"
      },
      "source": [
        "## Storing Patient Names and Insurance Costs"
      ]
    },
    {
      "cell_type": "markdown",
      "id": "ca586fc7",
      "metadata": {
        "id": "ca586fc7"
      },
      "source": [
        "1. We would like to keep a record of medical patients and their insurance costs.\n",
        "\n",
        "   First, create an empty dictionary called `medical_costs`."
      ]
    },
    {
      "cell_type": "code",
      "execution_count": 6,
      "id": "e6df17a2",
      "metadata": {
        "id": "e6df17a2"
      },
      "outputs": [],
      "source": [
        "medical_costs = dict()"
      ]
    },
    {
      "cell_type": "markdown",
      "id": "e06605b6",
      "metadata": {
        "id": "e06605b6"
      },
      "source": [
        "2. Let's populate our `medical_costs` dictionary by adding the following key-value pairs:\n",
        "   - Add `\"Marina\"` to `medical_costs` as a key with a value of `6607.0`.\n",
        "   - Add `\"Vinay\"` to `medical_costs` as a key with a value of `3225.0`."
      ]
    },
    {
      "cell_type": "code",
      "execution_count": 7,
      "id": "dec12f6a",
      "metadata": {
        "id": "dec12f6a"
      },
      "outputs": [],
      "source": [
        "medical_costs[\"Marina\"] = 6607.0\n",
        "medical_costs[\"Vinay\"] = 3225.0"
      ]
    },
    {
      "cell_type": "markdown",
      "id": "a093528d",
      "metadata": {
        "id": "a093528d"
      },
      "source": [
        "3. Using one line of code, add the following three patients to the `medical_costs` dictionary:\n",
        "   - `\"Connie\"`, with an insurance cost of `8886.0`.\n",
        "   - `\"Isaac\"`, with an insurance cost of `16444.0`.\n",
        "   - `\"Valentina\"`, with an insurance cost of `6420.0`."
      ]
    },
    {
      "cell_type": "code",
      "execution_count": 8,
      "id": "015d4658",
      "metadata": {
        "id": "015d4658"
      },
      "outputs": [],
      "source": [
        "medical_costs.update({\n",
        "  \"Connie\": 8886.0,\n",
        "  \"Isaac\": 16444.0,\n",
        "  \"Valentina\": 6420.0\n",
        "})"
      ]
    },
    {
      "cell_type": "markdown",
      "id": "9e2e45fa",
      "metadata": {
        "id": "9e2e45fa"
      },
      "source": [
        "4. Print `medical_costs`. Make sure the dictionary is what you expected."
      ]
    },
    {
      "cell_type": "code",
      "execution_count": 9,
      "id": "8b58435b",
      "metadata": {
        "colab": {
          "base_uri": "https://localhost:8080/"
        },
        "id": "8b58435b",
        "outputId": "5880edd3-7343-40d3-c80b-9efd8c54650b"
      },
      "outputs": [
        {
          "output_type": "stream",
          "name": "stdout",
          "text": [
            "{'Marina': 6607.0, 'Vinay': 3225.0, 'Connie': 8886.0, 'Isaac': 16444.0, 'Valentina': 6420.0}\n"
          ]
        }
      ],
      "source": [
        "print(medical_costs)"
      ]
    },
    {
      "cell_type": "markdown",
      "id": "e79e7ee3",
      "metadata": {
        "id": "e79e7ee3"
      },
      "source": [
        "5. You notice that `Vinay`'s insurance cost was incorrectly inputted. Update the value associated with `Vinay` to `3325.0`.\n",
        "\n",
        "   Print the updated dictionary."
      ]
    },
    {
      "cell_type": "code",
      "execution_count": 10,
      "id": "8b484f83",
      "metadata": {
        "colab": {
          "base_uri": "https://localhost:8080/"
        },
        "id": "8b484f83",
        "outputId": "0875d972-1445-4eed-cf9a-733c3134efba"
      },
      "outputs": [
        {
          "output_type": "stream",
          "name": "stdout",
          "text": [
            "{'Marina': 6607.0, 'Vinay': 3325.0, 'Connie': 8886.0, 'Isaac': 16444.0, 'Valentina': 6420.0}\n"
          ]
        }
      ],
      "source": [
        "medical_costs[\"Vinay\"] = 3325.0\n",
        "print(medical_costs)"
      ]
    },
    {
      "cell_type": "markdown",
      "id": "36d43988",
      "metadata": {
        "id": "36d43988"
      },
      "source": [
        "6. Let's calculate the average medical cost of each patient. Create a variable called `total_cost` and set it equal to 0.\n",
        "\n",
        "   Next, iterate through the values in `medical_costs` and add each value to the `total_cost` variable."
      ]
    },
    {
      "cell_type": "code",
      "execution_count": 11,
      "id": "ef636a71",
      "metadata": {
        "colab": {
          "base_uri": "https://localhost:8080/"
        },
        "id": "ef636a71",
        "outputId": "72f85807-c421-4024-9ca4-bef45523fdcd"
      },
      "outputs": [
        {
          "output_type": "stream",
          "name": "stdout",
          "text": [
            "41682.0\n"
          ]
        }
      ],
      "source": [
        "total_cost = 0\n",
        "for cost in medical_costs.values():\n",
        "  total_cost += cost\n",
        "\n",
        "print(total_cost)"
      ]
    },
    {
      "cell_type": "markdown",
      "id": "0dc5e0ba",
      "metadata": {
        "id": "0dc5e0ba"
      },
      "source": [
        "7. After the loop, create a variable called `average_cost` that stores the `total_cost` divided by the length of the `medical_costs` dictionary.\n",
        "\n",
        "   Print `average_cost` with the following message:\n",
        "   \n",
        "   ```\n",
        "   Average Insurance Cost: {average_cost}\n",
        "   ```"
      ]
    },
    {
      "cell_type": "code",
      "execution_count": 12,
      "id": "a6d83515",
      "metadata": {
        "colab": {
          "base_uri": "https://localhost:8080/"
        },
        "id": "a6d83515",
        "outputId": "b85cc910-98aa-429d-f34a-06f631b04f66"
      },
      "outputs": [
        {
          "output_type": "stream",
          "name": "stdout",
          "text": [
            "Average Insurance Cost: $8336.40\n"
          ]
        }
      ],
      "source": [
        "average_cost = total_cost / len(medical_costs)\n",
        "print(f\"Average Insurance Cost: ${average_cost:.2f}\")"
      ]
    },
    {
      "cell_type": "markdown",
      "id": "0f603e5b",
      "metadata": {
        "id": "0f603e5b"
      },
      "source": [
        "## List Comprehension to Dictionary"
      ]
    },
    {
      "cell_type": "markdown",
      "id": "b6e9f6f6",
      "metadata": {
        "id": "b6e9f6f6"
      },
      "source": [
        "8. You have been asked to create a second dictionary that maps patient names to their ages.\n",
        "\n",
        "   First, create two lists called `names` and `ages` with the following data:\n",
        "   \n",
        "   names | ages\n",
        "   --- | ---\n",
        "   Marina | 27\n",
        "   Vinay | 24\n",
        "   Connie | 43\n",
        "   Isaac | 35\n",
        "   Valentina | 52"
      ]
    },
    {
      "cell_type": "code",
      "execution_count": 13,
      "id": "88db2876",
      "metadata": {
        "id": "88db2876"
      },
      "outputs": [],
      "source": [
        "names = [\"Marina\", \"Vinay\", \"Connie\", \"Isaac\", \"Valentina\"]\n",
        "ages = [27, 24, 43, 35, 52]"
      ]
    },
    {
      "cell_type": "markdown",
      "id": "d213ceb2",
      "metadata": {
        "id": "d213ceb2"
      },
      "source": [
        "9. Next, create a variable called `zipped_ages` that is a zipped list of pairs between the `names` list and the `ages` list."
      ]
    },
    {
      "cell_type": "code",
      "execution_count": 14,
      "id": "eddb66ba",
      "metadata": {
        "colab": {
          "base_uri": "https://localhost:8080/"
        },
        "id": "eddb66ba",
        "outputId": "dc3d6d32-a3f3-427e-9fbf-d64d1949b2ae"
      },
      "outputs": [
        {
          "output_type": "stream",
          "name": "stdout",
          "text": [
            "[('Marina', 27), ('Vinay', 24), ('Connie', 43), ('Isaac', 35), ('Valentina', 52)]\n"
          ]
        }
      ],
      "source": [
        "zipped_ages = list(zip(names, ages))\n",
        "print(zipped_ages)"
      ]
    },
    {
      "cell_type": "markdown",
      "id": "d0df86ec",
      "metadata": {
        "id": "d0df86ec"
      },
      "source": [
        "10. Create a dictionary called `names_to_ages` by using a list comprehension that iterates through `zipped_ages` and turns each pair into a key : value item.\n",
        "\n",
        "    Print `names_to_ages` to see the result."
      ]
    },
    {
      "cell_type": "code",
      "execution_count": 15,
      "id": "dc760b49",
      "metadata": {
        "colab": {
          "base_uri": "https://localhost:8080/"
        },
        "id": "dc760b49",
        "outputId": "45e3dd28-dfd8-4611-a927-f7e170a09edc"
      },
      "outputs": [
        {
          "output_type": "stream",
          "name": "stdout",
          "text": [
            "{'Marina': 27, 'Vinay': 24, 'Connie': 43, 'Isaac': 35, 'Valentina': 52}\n"
          ]
        }
      ],
      "source": [
        "names_to_ages = {key:value for key, value in zipped_ages}\n",
        "print(names_to_ages)"
      ]
    },
    {
      "cell_type": "markdown",
      "id": "cb598e55",
      "metadata": {
        "id": "cb598e55"
      },
      "source": [
        "11. Use `.get()` to get the value of Marina's age and store it in a variable called `marina_age`. Use `None` as a default value if the key doesn't exist.\n",
        "\n",
        "    Print `marina_age` with the following message:\n",
        "    \n",
        "    ```\n",
        "    Marina's age is {marina_age}\n",
        "    ```"
      ]
    },
    {
      "cell_type": "code",
      "execution_count": 16,
      "id": "a7c9e288",
      "metadata": {
        "colab": {
          "base_uri": "https://localhost:8080/"
        },
        "id": "a7c9e288",
        "outputId": "3649337f-ea5e-4054-9280-f7bb95d31cd3"
      },
      "outputs": [
        {
          "output_type": "stream",
          "name": "stdout",
          "text": [
            "Marina's age is 27\n"
          ]
        }
      ],
      "source": [
        "marina_age = names_to_ages.get(\"Marina\")\n",
        "print(f\"Marina's age is {marina_age}\")"
      ]
    },
    {
      "cell_type": "markdown",
      "id": "b96b80f0",
      "metadata": {
        "id": "b96b80f0"
      },
      "source": [
        "## Using a Dictionary to Create a Medical Database"
      ]
    },
    {
      "cell_type": "markdown",
      "id": "4d1e02cf",
      "metadata": {
        "id": "4d1e02cf"
      },
      "source": [
        "12. Let's create a third dictionary to represent a database of medical records that contains information such as a patient's name, age, sex, gender, BMI, number of children, smoker status, and insurance cost.\n",
        "\n",
        "    First, create an empty dictionary called `medical_records`."
      ]
    },
    {
      "cell_type": "code",
      "execution_count": 17,
      "id": "768401f1",
      "metadata": {
        "id": "768401f1"
      },
      "outputs": [],
      "source": [
        "medical_records = dict()"
      ]
    },
    {
      "cell_type": "markdown",
      "id": "a035c911",
      "metadata": {
        "id": "a035c911"
      },
      "source": [
        "13. Next, add `\"Marina\"` to `medical_records` as a key with the value being a dictionary of medical data:\n",
        "\n",
        "    ```py\n",
        "    {\"Age\": 27, \"Sex\": \"Female\", \"BMI\": 31.1, \"Children\": 2, \"Smoker\": \"Non-smoker\", \"Insurance_cost\": 6607.0}\n",
        "    ```"
      ]
    },
    {
      "cell_type": "code",
      "execution_count": 18,
      "id": "5f4a0390",
      "metadata": {
        "id": "5f4a0390"
      },
      "outputs": [],
      "source": [
        "medical_records[\"Marina\"] = {\"Age\": 27, \"Sex\": \"Female\", \"BMI\": 31.1, \"Children\": 2, \"Smoker\": \"Non-smoker\", \"Insurance_cost\": 6607.0}"
      ]
    },
    {
      "cell_type": "markdown",
      "id": "739bac2e",
      "metadata": {
        "id": "739bac2e"
      },
      "source": [
        "14. Do the same for the following individuals:\n",
        "    \n",
        "    Name | Age | Sex | BMI | Children | Smoker | Insurance Cost\n",
        "    --- | --- | --- | --- | --- | --- | ---\n",
        "    Vinay | 24 | Male | 26.9 | 0 | Non-smoker | 3225.0\n",
        "    Connie | 43 | Female | 25.3 | 3 | Non-smoker | 8886.0\n",
        "    Isaac | 35 | Male | 20.6 | 4 | Smoker | 16444.0\n",
        "    Valentina | 52 | Female | 18.7 | 1 | Non-smoker | 6420.0"
      ]
    },
    {
      "cell_type": "code",
      "execution_count": 19,
      "id": "55de66f6",
      "metadata": {
        "id": "55de66f6"
      },
      "outputs": [],
      "source": [
        "medical_records[\"Vinay\"] = {\"Age\": 24, \"Sex\": \"Male\", \"BMI\": 26.9, \"Children\": 0, \"Smoker\": \"Non-smoker\", \"Insurance_cost\": 3225.0}\n",
        "medical_records[\"Connie\"] = {\"Age\": 43, \"Sex\": \"Female\", \"BMI\": 25.3, \"Children\": 3, \"Smoker\": \"Non-smoker\", \"Insurance_cost\": 8886.0}\n",
        "medical_records[\"Isaac\"] = {\"Age\": 35, \"Sex\": \"Male\", \"BMI\": 20.6, \"Children\": 4, \"Smoker\": \"Smoker\", \"Insurance_cost\": 16444.0}\n",
        "medical_records[\"Valentina\"] = {\"Age\": 52, \"Sex\": \"Female\", \"BMI\": 18.7, \"Children\": 1, \"Smoker\": \"Non-smoker\", \"Insurance_cost\": 6420.0}"
      ]
    },
    {
      "cell_type": "markdown",
      "id": "fbe83204",
      "metadata": {
        "id": "fbe83204"
      },
      "source": [
        "15. Print `medical_records` to see the result."
      ]
    },
    {
      "cell_type": "code",
      "execution_count": 20,
      "id": "88c952f7",
      "metadata": {
        "colab": {
          "base_uri": "https://localhost:8080/"
        },
        "id": "88c952f7",
        "outputId": "f7592271-6dbc-4e45-c7ba-1eaa1920060b"
      },
      "outputs": [
        {
          "output_type": "stream",
          "name": "stdout",
          "text": [
            "{'Marina': {'Age': 27, 'Sex': 'Female', 'BMI': 31.1, 'Children': 2, 'Smoker': 'Non-smoker', 'Insurance_cost': 6607.0}, 'Vinay': {'Age': 24, 'Sex': 'Male', 'BMI': 26.9, 'Children': 0, 'Smoker': 'Non-smoker', 'Insurance_cost': 3225.0}, 'Connie': {'Age': 43, 'Sex': 'Female', 'BMI': 25.3, 'Children': 3, 'Smoker': 'Non-smoker', 'Insurance_cost': 8886.0}, 'Isaac': {'Age': 35, 'Sex': 'Male', 'BMI': 20.6, 'Children': 4, 'Smoker': 'Smoker', 'Insurance_cost': 16444.0}, 'Valentina': {'Age': 52, 'Sex': 'Female', 'BMI': 18.7, 'Children': 1, 'Smoker': 'Non-smoker', 'Insurance_cost': 6420.0}}\n"
          ]
        }
      ],
      "source": [
        "print(medical_records)"
      ]
    },
    {
      "cell_type": "markdown",
      "id": "96f5661c",
      "metadata": {
        "id": "96f5661c"
      },
      "source": [
        "16. The `medical_records` dictionary acts like a database of medical records. Let's access a specific piece of data in `medical_records`.\n",
        "\n",
        "    Print out `Connie`'s insurance cost with the following message:\n",
        "    \n",
        "    ```\n",
        "    Connie's insurance cost is X dollars.\n",
        "    ```"
      ]
    },
    {
      "cell_type": "code",
      "execution_count": 21,
      "id": "2eb86872",
      "metadata": {
        "colab": {
          "base_uri": "https://localhost:8080/"
        },
        "id": "2eb86872",
        "outputId": "b5ea0f16-fafc-4e08-b7ef-e52cc32f0c24"
      },
      "outputs": [
        {
          "output_type": "stream",
          "name": "stdout",
          "text": [
            "Connie's insurance cost is 8886.0 dollars.\n"
          ]
        }
      ],
      "source": [
        "print(f\"Connie's insurance cost is {medical_records['Connie']['Insurance_cost']} dollars.\")"
      ]
    },
    {
      "cell_type": "markdown",
      "id": "9b33384f",
      "metadata": {
        "id": "9b33384f"
      },
      "source": [
        "17. `Vinay` has moved to a new country, and we no longer want to include him in our medical records.\n",
        "\n",
        "    Remove `Vinay` from `medical_records`."
      ]
    },
    {
      "cell_type": "code",
      "execution_count": 22,
      "id": "eeeb5b8d",
      "metadata": {
        "colab": {
          "base_uri": "https://localhost:8080/"
        },
        "id": "eeeb5b8d",
        "outputId": "1b18b075-28bb-43de-aeac-6e7d7f62d151"
      },
      "outputs": [
        {
          "output_type": "execute_result",
          "data": {
            "text/plain": [
              "{'Age': 24,\n",
              " 'Sex': 'Male',\n",
              " 'BMI': 26.9,\n",
              " 'Children': 0,\n",
              " 'Smoker': 'Non-smoker',\n",
              " 'Insurance_cost': 3225.0}"
            ]
          },
          "metadata": {},
          "execution_count": 22
        }
      ],
      "source": [
        "medical_records.pop(\"Vinay\")"
      ]
    },
    {
      "cell_type": "markdown",
      "id": "0cde5d29",
      "metadata": {
        "id": "0cde5d29"
      },
      "source": [
        "18. Let's take a closer look at each patient's medical record.\n",
        "\n",
        "    Use a `for` loop to iterate through the items of `medical_records`. For each key-value pair, print out a string that looks like the following:\n",
        "    \n",
        "    ```\n",
        "    {Name} is a {Age} year old {Sex} {Smoker} with a BMI of {BMI} and insurance cost of {Insurance_cost}\n",
        "    ```"
      ]
    },
    {
      "cell_type": "code",
      "execution_count": 25,
      "id": "39301cd2",
      "metadata": {
        "colab": {
          "base_uri": "https://localhost:8080/"
        },
        "id": "39301cd2",
        "outputId": "b74cff24-d918-48a0-825e-ec995bf1fcbe"
      },
      "outputs": [
        {
          "output_type": "stream",
          "name": "stdout",
          "text": [
            "Marina is a 27 year old Female Non-smoker with a BMI of 31.1 and insurance cost of $6607.00.\n",
            "Connie is a 43 year old Female Non-smoker with a BMI of 25.3 and insurance cost of $8886.00.\n",
            "Isaac is a 35 year old Male Smoker with a BMI of 20.6 and insurance cost of $16444.00.\n",
            "Valentina is a 52 year old Female Non-smoker with a BMI of 18.7 and insurance cost of $6420.00.\n"
          ]
        }
      ],
      "source": [
        "for name, record in medical_records.items():\n",
        "  print(f\"{name} is a {record['Age']} year old {record['Sex']} {record['Smoker']} with a BMI of {record['BMI']} and insurance cost of ${record['Insurance_cost']:.2f}.\")"
      ]
    },
    {
      "cell_type": "markdown",
      "id": "087a263c",
      "metadata": {
        "id": "087a263c"
      },
      "source": [
        "## Extra"
      ]
    },
    {
      "cell_type": "markdown",
      "id": "8e3067e6",
      "metadata": {
        "id": "8e3067e6"
      },
      "source": [
        "19. Congratulations! In this project, you used Python dictionaries to store and update medical data for individuals.\n",
        "\n",
        "    If you'd like extra practice with dictionaries, here are some suggestions to go further with this project:\n",
        "    - Create a function called `update_medical_records()` that takes in the name of an individual as well as their medical data, and then updates the `medical_records` dictionary accordingly.\n",
        "    - Create a new dictionary of your choice - feel free to get creative!\n",
        "    \n",
        "    Happy coding!"
      ]
    },
    {
      "cell_type": "code",
      "execution_count": 23,
      "id": "ac494987",
      "metadata": {
        "id": "ac494987"
      },
      "outputs": [],
      "source": []
    },
    {
      "cell_type": "code",
      "execution_count": 23,
      "id": "4195bad7",
      "metadata": {
        "id": "4195bad7"
      },
      "outputs": [],
      "source": []
    }
  ],
  "metadata": {
    "kernelspec": {
      "display_name": "Python 3 (ipykernel)",
      "language": "python",
      "name": "python3"
    },
    "language_info": {
      "codemirror_mode": {
        "name": "ipython",
        "version": 3
      },
      "file_extension": ".py",
      "mimetype": "text/x-python",
      "name": "python",
      "nbconvert_exporter": "python",
      "pygments_lexer": "ipython3",
      "version": "3.7.11"
    },
    "colab": {
      "provenance": [],
      "include_colab_link": true
    }
  },
  "nbformat": 4,
  "nbformat_minor": 5
}