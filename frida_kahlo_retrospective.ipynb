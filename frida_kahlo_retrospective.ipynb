{
  "cells": [
    {
      "cell_type": "markdown",
      "metadata": {
        "id": "view-in-github",
        "colab_type": "text"
      },
      "source": [
        "<a href=\"https://colab.research.google.com/github/smmurdock/Codecademy-projects/blob/main/frida_kahlo_retrospective.ipynb\" target=\"_parent\"><img src=\"https://colab.research.google.com/assets/colab-badge.svg\" alt=\"Open In Colab\"/></a>"
      ]
    },
    {
      "cell_type": "markdown",
      "metadata": {
        "id": "2AO5f9CeJvXa"
      },
      "source": [
        "# Frida Kahlo Exhibition\n",
        "\n",
        "You've been hired to work on a retrospective of Frida Kahlo's work at a major museum. Your job is to put together the audio tour, but in order to do that you need to create a list of each painting featured in the exhibit, the date it was painted, and its spot in the tour.\n",
        "\n",
        "Use your knowledge of Python lists to create a master list of each painting, its date, and its audio tour ID.\n"
      ]
    },
    {
      "cell_type": "markdown",
      "metadata": {
        "id": "XH27ZGEIJvXi"
      },
      "source": [
        "## Task 1\n",
        "First, create a list called `paintings` and add the following titles to it:\n",
        "\n",
        "`The Two Fridas, My Dress Hangs Here, Tree of Hope, Self Portrait With Monkeys`\n"
      ]
    },
    {
      "cell_type": "code",
      "execution_count": 15,
      "metadata": {
        "collapsed": true,
        "id": "J2fvjfkrJvXj"
      },
      "outputs": [],
      "source": [
        "paintings = [\"The Two Fridas\", \"My Dress Hangs Here\", \"Tree of Hope\", \"Self Portrait With Monkeys\"]"
      ]
    },
    {
      "cell_type": "markdown",
      "metadata": {
        "id": "6bLlO2RcJvXk"
      },
      "source": [
        "## Task 2\n",
        "\n",
        "Next, create a second list called `dates` and give it the following values:\n",
        "`1939, 1933, 1946, 1940`"
      ]
    },
    {
      "cell_type": "code",
      "execution_count": 16,
      "metadata": {
        "collapsed": true,
        "id": "6ZGOT2CzJvXl"
      },
      "outputs": [],
      "source": [
        "dates = [1939, 1933, 1946, 1940]"
      ]
    },
    {
      "cell_type": "markdown",
      "metadata": {
        "id": "_nmRHrHYJvXl"
      },
      "source": [
        "## Task 3\n",
        "It doesn't do much good to have the paintings without their dates, and vice versa.\n",
        "Zip together the two lists so that each painting is paired with its date and resave it to the `paintings` variable. Make sure to convert the zipped object into a list using the `list()` function. Print the results to the terminal to check your work."
      ]
    },
    {
      "cell_type": "code",
      "execution_count": 17,
      "metadata": {
        "collapsed": true,
        "colab": {
          "base_uri": "https://localhost:8080/"
        },
        "id": "ZPl53Tg4JvXm",
        "outputId": "5ecd497f-d70d-4d84-9dbb-956e002513b2"
      },
      "outputs": [
        {
          "output_type": "execute_result",
          "data": {
            "text/plain": [
              "[('The Two Fridas', 1939),\n",
              " ('My Dress Hangs Here', 1933),\n",
              " ('Tree of Hope', 1946),\n",
              " ('Self Portrait With Monkeys', 1940)]"
            ]
          },
          "metadata": {},
          "execution_count": 17
        }
      ],
      "source": [
        "paintings = list(zip(paintings, dates))\n",
        "paintings"
      ]
    },
    {
      "cell_type": "markdown",
      "metadata": {
        "id": "wrM3x0EmJvXm"
      },
      "source": [
        "## Task 4\n",
        "There were some last minute additions to the show that we need to add to our list. Append the following paintings to our `paintings` list then re-print to check they were added correctly:\n",
        "- 'The Broken Column', 1944\n",
        "- 'The Wounded Deer', 1946\n",
        "- 'Me and My Doll', 1937\n",
        "\n",
        "Hint: Make sure to append each painting individually and that you're appending them as tuples, not lists."
      ]
    },
    {
      "cell_type": "code",
      "execution_count": 18,
      "metadata": {
        "collapsed": true,
        "colab": {
          "base_uri": "https://localhost:8080/"
        },
        "id": "nIjfxpRXJvXn",
        "outputId": "296eb76b-60ff-4172-fa7c-629b37fa1dd5"
      },
      "outputs": [
        {
          "output_type": "execute_result",
          "data": {
            "text/plain": [
              "[('The Two Fridas', 1939),\n",
              " ('My Dress Hangs Here', 1933),\n",
              " ('Tree of Hope', 1946),\n",
              " ('Self Portrait With Monkeys', 1940),\n",
              " ('The Broken Column', 1944),\n",
              " ('The Wounded Deer', 1946),\n",
              " ('Me and My Doll', 1937)]"
            ]
          },
          "metadata": {},
          "execution_count": 18
        }
      ],
      "source": [
        "paintings.append((\"The Broken Column\", 1944))\n",
        "paintings.append((\"The Wounded Deer\", 1946))\n",
        "paintings.append((\"Me and My Doll\", 1937))\n",
        "paintings"
      ]
    },
    {
      "cell_type": "markdown",
      "metadata": {
        "id": "1M1HWnedJvXn"
      },
      "source": [
        "## Task 5\n",
        "Since each of these paintings is going to be in the audio tour, they each need a unique identification number.\n",
        "But before we assign them a number, we first need to check how many paintings there are in total.\n",
        "\n",
        "Find the length of the `paintings` list."
      ]
    },
    {
      "cell_type": "code",
      "execution_count": 19,
      "metadata": {
        "collapsed": true,
        "colab": {
          "base_uri": "https://localhost:8080/"
        },
        "id": "wkCXP59cJvXp",
        "outputId": "bb3cb996-3922-4357-eb99-e43e24d9275b"
      },
      "outputs": [
        {
          "output_type": "execute_result",
          "data": {
            "text/plain": [
              "7"
            ]
          },
          "metadata": {},
          "execution_count": 19
        }
      ],
      "source": [
        "len(paintings)"
      ]
    },
    {
      "cell_type": "markdown",
      "metadata": {
        "id": "t3Y1lLOZJvXp"
      },
      "source": [
        "## Task 6\n",
        "Use the `range` method to generate a list of identification numbers that starts at 1 and is equal in length to our list of items.\n",
        "Save the list to the variable `audio_tour_number` and check your work by printing the list."
      ]
    },
    {
      "cell_type": "code",
      "execution_count": 20,
      "metadata": {
        "collapsed": true,
        "colab": {
          "base_uri": "https://localhost:8080/"
        },
        "id": "WbVQnOIRJvXq",
        "outputId": "cc62dc7a-dcb5-469c-9079-56b3632c0784"
      },
      "outputs": [
        {
          "output_type": "execute_result",
          "data": {
            "text/plain": [
              "[1, 2, 3, 4, 5, 6, 7]"
            ]
          },
          "metadata": {},
          "execution_count": 20
        }
      ],
      "source": [
        "audio_tour_number = list(range(1, len(paintings)+1))\n",
        "audio_tour_number"
      ]
    },
    {
      "cell_type": "markdown",
      "metadata": {
        "id": "7zganNmrJvXq"
      },
      "source": [
        "## Task 7\n",
        "\n",
        "We're finally read to create our master list.\n",
        "Zip the `audio_tour_number` list to the `paintings` list and save it as `master_list`.\n",
        "\n",
        "Hint: Make sure to convert the zipped object into a list using the `list()` function."
      ]
    },
    {
      "cell_type": "code",
      "execution_count": 21,
      "metadata": {
        "collapsed": true,
        "colab": {
          "base_uri": "https://localhost:8080/"
        },
        "id": "NfscE-t-JvXr",
        "outputId": "50fedbb5-4eb9-40ec-c0b2-300d6a40b4b8"
      },
      "outputs": [
        {
          "output_type": "execute_result",
          "data": {
            "text/plain": [
              "[(('The Two Fridas', 1939), 1),\n",
              " (('My Dress Hangs Here', 1933), 2),\n",
              " (('Tree of Hope', 1946), 3),\n",
              " (('Self Portrait With Monkeys', 1940), 4),\n",
              " (('The Broken Column', 1944), 5),\n",
              " (('The Wounded Deer', 1946), 6),\n",
              " (('Me and My Doll', 1937), 7)]"
            ]
          },
          "metadata": {},
          "execution_count": 21
        }
      ],
      "source": [
        "master_list = list(zip(paintings, audio_tour_number))\n",
        "master_list"
      ]
    },
    {
      "cell_type": "markdown",
      "metadata": {
        "id": "-9bO3ORTJvXr"
      },
      "source": [
        "## Task 8\n",
        "Print the `master_list` to the terminal."
      ]
    },
    {
      "cell_type": "code",
      "execution_count": 22,
      "metadata": {
        "collapsed": true,
        "colab": {
          "base_uri": "https://localhost:8080/"
        },
        "id": "yDac5GNBJvXs",
        "outputId": "dbde14f0-d34f-400c-f9a5-9df52ebefd1b"
      },
      "outputs": [
        {
          "output_type": "execute_result",
          "data": {
            "text/plain": [
              "[(('The Two Fridas', 1939), 1),\n",
              " (('My Dress Hangs Here', 1933), 2),\n",
              " (('Tree of Hope', 1946), 3),\n",
              " (('Self Portrait With Monkeys', 1940), 4),\n",
              " (('The Broken Column', 1944), 5),\n",
              " (('The Wounded Deer', 1946), 6),\n",
              " (('Me and My Doll', 1937), 7)]"
            ]
          },
          "metadata": {},
          "execution_count": 22
        }
      ],
      "source": [
        "master_list"
      ]
    },
    {
      "cell_type": "code",
      "source": [],
      "metadata": {
        "id": "MGnGKUZZNVzg"
      },
      "execution_count": 22,
      "outputs": []
    }
  ],
  "metadata": {
    "kernelspec": {
      "display_name": "Python 3",
      "language": "python",
      "name": "python3"
    },
    "language_info": {
      "codemirror_mode": {
        "name": "ipython",
        "version": 3
      },
      "file_extension": ".py",
      "mimetype": "text/x-python",
      "name": "python",
      "nbconvert_exporter": "python",
      "pygments_lexer": "ipython3",
      "version": "3.6.2"
    },
    "colab": {
      "provenance": [],
      "include_colab_link": true
    }
  },
  "nbformat": 4,
  "nbformat_minor": 0
}